{
  "cells": [
    {
      "cell_type": "code",
      "execution_count": null,
      "metadata": {
        "colab": {
          "base_uri": "https://localhost:8080/"
        },
        "id": "d1LWAbvoAejq",
        "outputId": "b4a5a70f-34b0-4f34-a860-2805a7acdcc0"
      },
      "outputs": [
        {
          "output_type": "stream",
          "name": "stdout",
          "text": [
            "Downloading creditcardfraud.zip to /content\n",
            " 74% 49.0M/66.0M [00:00<00:00, 165MB/s]\n",
            "100% 66.0M/66.0M [00:00<00:00, 178MB/s]\n"
          ]
        }
      ],
      "source": [
        "! cp kaggle.json ~/.kaggle/\n",
        "! chmod 600 ~/.kaggle/kaggle.json\n",
        "! kaggle datasets download -d mlg-ulb/creditcardfraud"
      ]
    },
    {
      "cell_type": "code",
      "execution_count": null,
      "metadata": {
        "colab": {
          "base_uri": "https://localhost:8080/"
        },
        "id": "bgMpDKWRBLoC",
        "outputId": "64cbdaac-5824-4612-bf9c-461ce545058b"
      },
      "outputs": [
        {
          "output_type": "stream",
          "name": "stdout",
          "text": [
            "Archive:  creditcardfraud.zip\n",
            "replace creditcard.csv? [y]es, [n]o, [A]ll, [N]one, [r]ename: y\n",
            "  inflating: creditcard.csv          \n"
          ]
        }
      ],
      "source": [
        "! unzip creditcardfraud.zip"
      ]
    },
    {
      "cell_type": "code",
      "execution_count": null,
      "metadata": {
        "colab": {
          "base_uri": "https://localhost:8080/"
        },
        "id": "g-MO1yKWBaMU",
        "outputId": "03eca81e-b815-4e0e-ecbb-3ae82848bf94"
      },
      "outputs": [
        {
          "output_type": "stream",
          "name": "stdout",
          "text": [
            "Requirement already satisfied: scikit-learn in /usr/local/lib/python3.10/dist-packages (1.2.2)\n",
            "Collecting scikit-learn\n",
            "  Downloading scikit_learn-1.3.0-cp310-cp310-manylinux_2_17_x86_64.manylinux2014_x86_64.whl (10.8 MB)\n",
            "\u001b[2K     \u001b[90m━━━━━━━━━━━━━━━━━━━━━━━━━━━━━━━━━━━━━━━━\u001b[0m \u001b[32m10.8/10.8 MB\u001b[0m \u001b[31m22.8 MB/s\u001b[0m eta \u001b[36m0:00:00\u001b[0m\n",
            "\u001b[?25hRequirement already satisfied: numpy>=1.17.3 in /usr/local/lib/python3.10/dist-packages (from scikit-learn) (1.22.4)\n",
            "Requirement already satisfied: scipy>=1.5.0 in /usr/local/lib/python3.10/dist-packages (from scikit-learn) (1.10.1)\n",
            "Requirement already satisfied: joblib>=1.1.1 in /usr/local/lib/python3.10/dist-packages (from scikit-learn) (1.3.1)\n",
            "Requirement already satisfied: threadpoolctl>=2.0.0 in /usr/local/lib/python3.10/dist-packages (from scikit-learn) (3.1.0)\n",
            "Installing collected packages: scikit-learn\n",
            "  Attempting uninstall: scikit-learn\n",
            "    Found existing installation: scikit-learn 1.2.2\n",
            "    Uninstalling scikit-learn-1.2.2:\n",
            "      Successfully uninstalled scikit-learn-1.2.2\n",
            "Successfully installed scikit-learn-1.3.0\n",
            "Scikit-Learn 1.3.0\n"
          ]
        }
      ],
      "source": [
        "!pip install -U scikit-learn\n",
        "import sklearn; print(\"Scikit-Learn\", sklearn.__version__)"
      ]
    },
    {
      "cell_type": "code",
      "execution_count": null,
      "metadata": {
        "id": "W11Ab_rSBmXk"
      },
      "outputs": [],
      "source": [
        "import numpy as np\n",
        "import pandas as pd\n",
        "import matplotlib.pyplot as plt\n",
        "%matplotlib inline\n",
        "import seaborn as sns\n",
        "\n",
        "from sklearn.ensemble import RandomForestClassifier\n",
        "from sklearn import preprocessing\n",
        "from sklearn.metrics import accuracy_score\n",
        "from sklearn.model_selection import StratifiedShuffleSplit"
      ]
    },
    {
      "cell_type": "code",
      "execution_count": null,
      "metadata": {
        "colab": {
          "base_uri": "https://localhost:8080/"
        },
        "id": "5vz9x-QzCu0V",
        "outputId": "d87d0a33-b420-4fdd-b775-faf79a31fb12"
      },
      "outputs": [
        {
          "output_type": "stream",
          "name": "stdout",
          "text": [
            "Collecting keras==2.1.6\n",
            "  Downloading Keras-2.1.6-py2.py3-none-any.whl (339 kB)\n",
            "\u001b[2K     \u001b[90m━━━━━━━━━━━━━━━━━━━━━━━━━━━━━━━━━━━━━━━\u001b[0m \u001b[32m339.6/339.6 kB\u001b[0m \u001b[31m4.5 MB/s\u001b[0m eta \u001b[36m0:00:00\u001b[0m\n",
            "\u001b[?25hRequirement already satisfied: numpy>=1.9.1 in /usr/local/lib/python3.10/dist-packages (from keras==2.1.6) (1.22.4)\n",
            "Requirement already satisfied: scipy>=0.14 in /usr/local/lib/python3.10/dist-packages (from keras==2.1.6) (1.10.1)\n",
            "Requirement already satisfied: six>=1.9.0 in /usr/local/lib/python3.10/dist-packages (from keras==2.1.6) (1.16.0)\n",
            "Requirement already satisfied: pyyaml in /usr/local/lib/python3.10/dist-packages (from keras==2.1.6) (6.0)\n",
            "Requirement already satisfied: h5py in /usr/local/lib/python3.10/dist-packages (from keras==2.1.6) (3.8.0)\n",
            "Installing collected packages: keras\n",
            "  Attempting uninstall: keras\n",
            "    Found existing installation: keras 2.12.0\n",
            "    Uninstalling keras-2.12.0:\n",
            "      Successfully uninstalled keras-2.12.0\n",
            "\u001b[31mERROR: pip's dependency resolver does not currently take into account all the packages that are installed. This behaviour is the source of the following dependency conflicts.\n",
            "tensorflow 2.12.0 requires keras<2.13,>=2.12.0, but you have keras 2.1.6 which is incompatible.\u001b[0m\u001b[31m\n",
            "\u001b[0mSuccessfully installed keras-2.1.6\n"
          ]
        }
      ],
      "source": [
        "!pip install keras==2.1.6"
      ]
    },
    {
      "cell_type": "code",
      "execution_count": null,
      "metadata": {
        "colab": {
          "base_uri": "https://localhost:8080/",
          "height": 299
        },
        "id": "fmu1Xx8SBel-",
        "outputId": "36251418-4ed4-4853-c703-eb7fb58f01c1"
      },
      "outputs": [
        {
          "output_type": "execute_result",
          "data": {
            "text/plain": [
              "   Time        V1        V2        V3        V4        V5        V6        V7  \\\n",
              "0   0.0 -1.359807 -0.072781  2.536347  1.378155 -0.338321  0.462388  0.239599   \n",
              "1   0.0  1.191857  0.266151  0.166480  0.448154  0.060018 -0.082361 -0.078803   \n",
              "2   1.0 -1.358354 -1.340163  1.773209  0.379780 -0.503198  1.800499  0.791461   \n",
              "3   1.0 -0.966272 -0.185226  1.792993 -0.863291 -0.010309  1.247203  0.237609   \n",
              "4   2.0 -1.158233  0.877737  1.548718  0.403034 -0.407193  0.095921  0.592941   \n",
              "\n",
              "         V8        V9  ...       V21       V22       V23       V24       V25  \\\n",
              "0  0.098698  0.363787  ... -0.018307  0.277838 -0.110474  0.066928  0.128539   \n",
              "1  0.085102 -0.255425  ... -0.225775 -0.638672  0.101288 -0.339846  0.167170   \n",
              "2  0.247676 -1.514654  ...  0.247998  0.771679  0.909412 -0.689281 -0.327642   \n",
              "3  0.377436 -1.387024  ... -0.108300  0.005274 -0.190321 -1.175575  0.647376   \n",
              "4 -0.270533  0.817739  ... -0.009431  0.798278 -0.137458  0.141267 -0.206010   \n",
              "\n",
              "        V26       V27       V28  Amount  Class  \n",
              "0 -0.189115  0.133558 -0.021053  149.62      0  \n",
              "1  0.125895 -0.008983  0.014724    2.69      0  \n",
              "2 -0.139097 -0.055353 -0.059752  378.66      0  \n",
              "3 -0.221929  0.062723  0.061458  123.50      0  \n",
              "4  0.502292  0.219422  0.215153   69.99      0  \n",
              "\n",
              "[5 rows x 31 columns]"
            ],
            "text/html": [
              "\n",
              "\n",
              "  <div id=\"df-c142fa39-24ff-467e-88a1-30a6730a9870\">\n",
              "    <div class=\"colab-df-container\">\n",
              "      <div>\n",
              "<style scoped>\n",
              "    .dataframe tbody tr th:only-of-type {\n",
              "        vertical-align: middle;\n",
              "    }\n",
              "\n",
              "    .dataframe tbody tr th {\n",
              "        vertical-align: top;\n",
              "    }\n",
              "\n",
              "    .dataframe thead th {\n",
              "        text-align: right;\n",
              "    }\n",
              "</style>\n",
              "<table border=\"1\" class=\"dataframe\">\n",
              "  <thead>\n",
              "    <tr style=\"text-align: right;\">\n",
              "      <th></th>\n",
              "      <th>Time</th>\n",
              "      <th>V1</th>\n",
              "      <th>V2</th>\n",
              "      <th>V3</th>\n",
              "      <th>V4</th>\n",
              "      <th>V5</th>\n",
              "      <th>V6</th>\n",
              "      <th>V7</th>\n",
              "      <th>V8</th>\n",
              "      <th>V9</th>\n",
              "      <th>...</th>\n",
              "      <th>V21</th>\n",
              "      <th>V22</th>\n",
              "      <th>V23</th>\n",
              "      <th>V24</th>\n",
              "      <th>V25</th>\n",
              "      <th>V26</th>\n",
              "      <th>V27</th>\n",
              "      <th>V28</th>\n",
              "      <th>Amount</th>\n",
              "      <th>Class</th>\n",
              "    </tr>\n",
              "  </thead>\n",
              "  <tbody>\n",
              "    <tr>\n",
              "      <th>0</th>\n",
              "      <td>0.0</td>\n",
              "      <td>-1.359807</td>\n",
              "      <td>-0.072781</td>\n",
              "      <td>2.536347</td>\n",
              "      <td>1.378155</td>\n",
              "      <td>-0.338321</td>\n",
              "      <td>0.462388</td>\n",
              "      <td>0.239599</td>\n",
              "      <td>0.098698</td>\n",
              "      <td>0.363787</td>\n",
              "      <td>...</td>\n",
              "      <td>-0.018307</td>\n",
              "      <td>0.277838</td>\n",
              "      <td>-0.110474</td>\n",
              "      <td>0.066928</td>\n",
              "      <td>0.128539</td>\n",
              "      <td>-0.189115</td>\n",
              "      <td>0.133558</td>\n",
              "      <td>-0.021053</td>\n",
              "      <td>149.62</td>\n",
              "      <td>0</td>\n",
              "    </tr>\n",
              "    <tr>\n",
              "      <th>1</th>\n",
              "      <td>0.0</td>\n",
              "      <td>1.191857</td>\n",
              "      <td>0.266151</td>\n",
              "      <td>0.166480</td>\n",
              "      <td>0.448154</td>\n",
              "      <td>0.060018</td>\n",
              "      <td>-0.082361</td>\n",
              "      <td>-0.078803</td>\n",
              "      <td>0.085102</td>\n",
              "      <td>-0.255425</td>\n",
              "      <td>...</td>\n",
              "      <td>-0.225775</td>\n",
              "      <td>-0.638672</td>\n",
              "      <td>0.101288</td>\n",
              "      <td>-0.339846</td>\n",
              "      <td>0.167170</td>\n",
              "      <td>0.125895</td>\n",
              "      <td>-0.008983</td>\n",
              "      <td>0.014724</td>\n",
              "      <td>2.69</td>\n",
              "      <td>0</td>\n",
              "    </tr>\n",
              "    <tr>\n",
              "      <th>2</th>\n",
              "      <td>1.0</td>\n",
              "      <td>-1.358354</td>\n",
              "      <td>-1.340163</td>\n",
              "      <td>1.773209</td>\n",
              "      <td>0.379780</td>\n",
              "      <td>-0.503198</td>\n",
              "      <td>1.800499</td>\n",
              "      <td>0.791461</td>\n",
              "      <td>0.247676</td>\n",
              "      <td>-1.514654</td>\n",
              "      <td>...</td>\n",
              "      <td>0.247998</td>\n",
              "      <td>0.771679</td>\n",
              "      <td>0.909412</td>\n",
              "      <td>-0.689281</td>\n",
              "      <td>-0.327642</td>\n",
              "      <td>-0.139097</td>\n",
              "      <td>-0.055353</td>\n",
              "      <td>-0.059752</td>\n",
              "      <td>378.66</td>\n",
              "      <td>0</td>\n",
              "    </tr>\n",
              "    <tr>\n",
              "      <th>3</th>\n",
              "      <td>1.0</td>\n",
              "      <td>-0.966272</td>\n",
              "      <td>-0.185226</td>\n",
              "      <td>1.792993</td>\n",
              "      <td>-0.863291</td>\n",
              "      <td>-0.010309</td>\n",
              "      <td>1.247203</td>\n",
              "      <td>0.237609</td>\n",
              "      <td>0.377436</td>\n",
              "      <td>-1.387024</td>\n",
              "      <td>...</td>\n",
              "      <td>-0.108300</td>\n",
              "      <td>0.005274</td>\n",
              "      <td>-0.190321</td>\n",
              "      <td>-1.175575</td>\n",
              "      <td>0.647376</td>\n",
              "      <td>-0.221929</td>\n",
              "      <td>0.062723</td>\n",
              "      <td>0.061458</td>\n",
              "      <td>123.50</td>\n",
              "      <td>0</td>\n",
              "    </tr>\n",
              "    <tr>\n",
              "      <th>4</th>\n",
              "      <td>2.0</td>\n",
              "      <td>-1.158233</td>\n",
              "      <td>0.877737</td>\n",
              "      <td>1.548718</td>\n",
              "      <td>0.403034</td>\n",
              "      <td>-0.407193</td>\n",
              "      <td>0.095921</td>\n",
              "      <td>0.592941</td>\n",
              "      <td>-0.270533</td>\n",
              "      <td>0.817739</td>\n",
              "      <td>...</td>\n",
              "      <td>-0.009431</td>\n",
              "      <td>0.798278</td>\n",
              "      <td>-0.137458</td>\n",
              "      <td>0.141267</td>\n",
              "      <td>-0.206010</td>\n",
              "      <td>0.502292</td>\n",
              "      <td>0.219422</td>\n",
              "      <td>0.215153</td>\n",
              "      <td>69.99</td>\n",
              "      <td>0</td>\n",
              "    </tr>\n",
              "  </tbody>\n",
              "</table>\n",
              "<p>5 rows × 31 columns</p>\n",
              "</div>\n",
              "      <button class=\"colab-df-convert\" onclick=\"convertToInteractive('df-c142fa39-24ff-467e-88a1-30a6730a9870')\"\n",
              "              title=\"Convert this dataframe to an interactive table.\"\n",
              "              style=\"display:none;\">\n",
              "\n",
              "  <svg xmlns=\"http://www.w3.org/2000/svg\" height=\"24px\"viewBox=\"0 0 24 24\"\n",
              "       width=\"24px\">\n",
              "    <path d=\"M0 0h24v24H0V0z\" fill=\"none\"/>\n",
              "    <path d=\"M18.56 5.44l.94 2.06.94-2.06 2.06-.94-2.06-.94-.94-2.06-.94 2.06-2.06.94zm-11 1L8.5 8.5l.94-2.06 2.06-.94-2.06-.94L8.5 2.5l-.94 2.06-2.06.94zm10 10l.94 2.06.94-2.06 2.06-.94-2.06-.94-.94-2.06-.94 2.06-2.06.94z\"/><path d=\"M17.41 7.96l-1.37-1.37c-.4-.4-.92-.59-1.43-.59-.52 0-1.04.2-1.43.59L10.3 9.45l-7.72 7.72c-.78.78-.78 2.05 0 2.83L4 21.41c.39.39.9.59 1.41.59.51 0 1.02-.2 1.41-.59l7.78-7.78 2.81-2.81c.8-.78.8-2.07 0-2.86zM5.41 20L4 18.59l7.72-7.72 1.47 1.35L5.41 20z\"/>\n",
              "  </svg>\n",
              "      </button>\n",
              "\n",
              "\n",
              "\n",
              "    <div id=\"df-cbf658d1-7e2b-4033-98ed-f932a3a83037\">\n",
              "      <button class=\"colab-df-quickchart\" onclick=\"quickchart('df-cbf658d1-7e2b-4033-98ed-f932a3a83037')\"\n",
              "              title=\"Suggest charts.\"\n",
              "              style=\"display:none;\">\n",
              "\n",
              "<svg xmlns=\"http://www.w3.org/2000/svg\" height=\"24px\"viewBox=\"0 0 24 24\"\n",
              "     width=\"24px\">\n",
              "    <g>\n",
              "        <path d=\"M19 3H5c-1.1 0-2 .9-2 2v14c0 1.1.9 2 2 2h14c1.1 0 2-.9 2-2V5c0-1.1-.9-2-2-2zM9 17H7v-7h2v7zm4 0h-2V7h2v10zm4 0h-2v-4h2v4z\"/>\n",
              "    </g>\n",
              "</svg>\n",
              "      </button>\n",
              "    </div>\n",
              "\n",
              "<style>\n",
              "  .colab-df-quickchart {\n",
              "    background-color: #E8F0FE;\n",
              "    border: none;\n",
              "    border-radius: 50%;\n",
              "    cursor: pointer;\n",
              "    display: none;\n",
              "    fill: #1967D2;\n",
              "    height: 32px;\n",
              "    padding: 0 0 0 0;\n",
              "    width: 32px;\n",
              "  }\n",
              "\n",
              "  .colab-df-quickchart:hover {\n",
              "    background-color: #E2EBFA;\n",
              "    box-shadow: 0px 1px 2px rgba(60, 64, 67, 0.3), 0px 1px 3px 1px rgba(60, 64, 67, 0.15);\n",
              "    fill: #174EA6;\n",
              "  }\n",
              "\n",
              "  [theme=dark] .colab-df-quickchart {\n",
              "    background-color: #3B4455;\n",
              "    fill: #D2E3FC;\n",
              "  }\n",
              "\n",
              "  [theme=dark] .colab-df-quickchart:hover {\n",
              "    background-color: #434B5C;\n",
              "    box-shadow: 0px 1px 3px 1px rgba(0, 0, 0, 0.15);\n",
              "    filter: drop-shadow(0px 1px 2px rgba(0, 0, 0, 0.3));\n",
              "    fill: #FFFFFF;\n",
              "  }\n",
              "</style>\n",
              "\n",
              "    <script>\n",
              "      async function quickchart(key) {\n",
              "        const containerElement = document.querySelector('#' + key);\n",
              "        const charts = await google.colab.kernel.invokeFunction(\n",
              "            'suggestCharts', [key], {});\n",
              "      }\n",
              "    </script>\n",
              "\n",
              "      <script>\n",
              "\n",
              "function displayQuickchartButton(domScope) {\n",
              "  let quickchartButtonEl =\n",
              "    domScope.querySelector('#df-cbf658d1-7e2b-4033-98ed-f932a3a83037 button.colab-df-quickchart');\n",
              "  quickchartButtonEl.style.display =\n",
              "    google.colab.kernel.accessAllowed ? 'block' : 'none';\n",
              "}\n",
              "\n",
              "        displayQuickchartButton(document);\n",
              "      </script>\n",
              "      <style>\n",
              "    .colab-df-container {\n",
              "      display:flex;\n",
              "      flex-wrap:wrap;\n",
              "      gap: 12px;\n",
              "    }\n",
              "\n",
              "    .colab-df-convert {\n",
              "      background-color: #E8F0FE;\n",
              "      border: none;\n",
              "      border-radius: 50%;\n",
              "      cursor: pointer;\n",
              "      display: none;\n",
              "      fill: #1967D2;\n",
              "      height: 32px;\n",
              "      padding: 0 0 0 0;\n",
              "      width: 32px;\n",
              "    }\n",
              "\n",
              "    .colab-df-convert:hover {\n",
              "      background-color: #E2EBFA;\n",
              "      box-shadow: 0px 1px 2px rgba(60, 64, 67, 0.3), 0px 1px 3px 1px rgba(60, 64, 67, 0.15);\n",
              "      fill: #174EA6;\n",
              "    }\n",
              "\n",
              "    [theme=dark] .colab-df-convert {\n",
              "      background-color: #3B4455;\n",
              "      fill: #D2E3FC;\n",
              "    }\n",
              "\n",
              "    [theme=dark] .colab-df-convert:hover {\n",
              "      background-color: #434B5C;\n",
              "      box-shadow: 0px 1px 3px 1px rgba(0, 0, 0, 0.15);\n",
              "      filter: drop-shadow(0px 1px 2px rgba(0, 0, 0, 0.3));\n",
              "      fill: #FFFFFF;\n",
              "    }\n",
              "  </style>\n",
              "\n",
              "      <script>\n",
              "        const buttonEl =\n",
              "          document.querySelector('#df-c142fa39-24ff-467e-88a1-30a6730a9870 button.colab-df-convert');\n",
              "        buttonEl.style.display =\n",
              "          google.colab.kernel.accessAllowed ? 'block' : 'none';\n",
              "\n",
              "        async function convertToInteractive(key) {\n",
              "          const element = document.querySelector('#df-c142fa39-24ff-467e-88a1-30a6730a9870');\n",
              "          const dataTable =\n",
              "            await google.colab.kernel.invokeFunction('convertToInteractive',\n",
              "                                                     [key], {});\n",
              "          if (!dataTable) return;\n",
              "\n",
              "          const docLinkHtml = 'Like what you see? Visit the ' +\n",
              "            '<a target=\"_blank\" href=https://colab.research.google.com/notebooks/data_table.ipynb>data table notebook</a>'\n",
              "            + ' to learn more about interactive tables.';\n",
              "          element.innerHTML = '';\n",
              "          dataTable['output_type'] = 'display_data';\n",
              "          await google.colab.output.renderOutput(dataTable, element);\n",
              "          const docLink = document.createElement('div');\n",
              "          docLink.innerHTML = docLinkHtml;\n",
              "          element.appendChild(docLink);\n",
              "        }\n",
              "      </script>\n",
              "    </div>\n",
              "  </div>\n"
            ]
          },
          "metadata": {},
          "execution_count": 8
        }
      ],
      "source": [
        "data=pd.read_csv('creditcard.csv')\n",
        "data.head()"
      ]
    },
    {
      "cell_type": "code",
      "source": [
        "data.shape[0]\n",
        "LIMIT = 10000\n",
        "data = data[:LIMIT]"
      ],
      "metadata": {
        "id": "CoqWfa2F8kHN"
      },
      "execution_count": null,
      "outputs": []
    },
    {
      "cell_type": "markdown",
      "metadata": {
        "id": "jLgVxOuE0-An"
      },
      "source": [
        "Data Correlation"
      ]
    },
    {
      "cell_type": "code",
      "execution_count": null,
      "metadata": {
        "colab": {
          "base_uri": "https://localhost:8080/"
        },
        "id": "l1nyBYey1msw",
        "outputId": "9b034e58-ced4-41fe-bcfe-a2c34c0fe7b7"
      },
      "outputs": [
        {
          "output_type": "stream",
          "name": "stdout",
          "text": [
            "Index(['Time', 'V1', 'V2', 'V3', 'V4', 'V5', 'V6', 'V7', 'V8', 'V9', 'V10',\n",
            "       'V11', 'V12', 'V13', 'V14', 'V15', 'V16', 'V17', 'V18', 'V19', 'V20',\n",
            "       'V21', 'V22', 'V23', 'V24', 'V25', 'V26', 'V27', 'V28', 'Amount',\n",
            "       'Class'],\n",
            "      dtype='object')\n"
          ]
        }
      ],
      "source": [
        "print(data.columns)"
      ]
    },
    {
      "cell_type": "code",
      "execution_count": null,
      "metadata": {
        "id": "4bNiUTSFwjiB"
      },
      "outputs": [],
      "source": [
        "### BEGIN SOLUTION\n",
        "# Calculate the correlation values\n",
        "feature_cols = data.columns[:-1]\n",
        "corr_values = data[feature_cols].corr()\n",
        "\n",
        "# Simplify by emptying all the data below the diagonal\n",
        "tril_index = np.tril_indices_from(corr_values)\n",
        "\n",
        "# Make the unused values NaNs\n",
        "for coord in zip(*tril_index):\n",
        "    corr_values.iloc[coord[0], coord[1]] = np.NaN\n",
        "\n",
        "# Stack the data and convert to a data frame\n",
        "corr_values = (corr_values\n",
        "               .stack()\n",
        "               .to_frame()\n",
        "               .reset_index()\n",
        "               .rename(columns={'level_0':'feature1',\n",
        "                                'level_1':'feature2',\n",
        "                                0:'correlation'}))\n",
        "\n",
        "# Get the absolute values for sorting\n",
        "corr_values['abs_correlation'] = corr_values.correlation.abs()"
      ]
    },
    {
      "cell_type": "code",
      "execution_count": null,
      "metadata": {
        "colab": {
          "base_uri": "https://localhost:8080/",
          "height": 112
        },
        "id": "Dii7bmxY1RKr",
        "outputId": "ab4e2dab-e104-4a43-98ab-f7954f1bf06f"
      },
      "outputs": [
        {
          "output_type": "execute_result",
          "data": {
            "text/plain": [
              "   feature1 feature2  correlation  abs_correlation\n",
              "12     Time      V13     0.517830         0.517830\n",
              "11     Time      V12    -0.625646         0.625646"
            ],
            "text/html": [
              "\n",
              "\n",
              "  <div id=\"df-59a7f23c-2d50-4b6a-94e6-d93604788732\">\n",
              "    <div class=\"colab-df-container\">\n",
              "      <div>\n",
              "<style scoped>\n",
              "    .dataframe tbody tr th:only-of-type {\n",
              "        vertical-align: middle;\n",
              "    }\n",
              "\n",
              "    .dataframe tbody tr th {\n",
              "        vertical-align: top;\n",
              "    }\n",
              "\n",
              "    .dataframe thead th {\n",
              "        text-align: right;\n",
              "    }\n",
              "</style>\n",
              "<table border=\"1\" class=\"dataframe\">\n",
              "  <thead>\n",
              "    <tr style=\"text-align: right;\">\n",
              "      <th></th>\n",
              "      <th>feature1</th>\n",
              "      <th>feature2</th>\n",
              "      <th>correlation</th>\n",
              "      <th>abs_correlation</th>\n",
              "    </tr>\n",
              "  </thead>\n",
              "  <tbody>\n",
              "    <tr>\n",
              "      <th>12</th>\n",
              "      <td>Time</td>\n",
              "      <td>V13</td>\n",
              "      <td>0.517830</td>\n",
              "      <td>0.517830</td>\n",
              "    </tr>\n",
              "    <tr>\n",
              "      <th>11</th>\n",
              "      <td>Time</td>\n",
              "      <td>V12</td>\n",
              "      <td>-0.625646</td>\n",
              "      <td>0.625646</td>\n",
              "    </tr>\n",
              "  </tbody>\n",
              "</table>\n",
              "</div>\n",
              "      <button class=\"colab-df-convert\" onclick=\"convertToInteractive('df-59a7f23c-2d50-4b6a-94e6-d93604788732')\"\n",
              "              title=\"Convert this dataframe to an interactive table.\"\n",
              "              style=\"display:none;\">\n",
              "\n",
              "  <svg xmlns=\"http://www.w3.org/2000/svg\" height=\"24px\"viewBox=\"0 0 24 24\"\n",
              "       width=\"24px\">\n",
              "    <path d=\"M0 0h24v24H0V0z\" fill=\"none\"/>\n",
              "    <path d=\"M18.56 5.44l.94 2.06.94-2.06 2.06-.94-2.06-.94-.94-2.06-.94 2.06-2.06.94zm-11 1L8.5 8.5l.94-2.06 2.06-.94-2.06-.94L8.5 2.5l-.94 2.06-2.06.94zm10 10l.94 2.06.94-2.06 2.06-.94-2.06-.94-.94-2.06-.94 2.06-2.06.94z\"/><path d=\"M17.41 7.96l-1.37-1.37c-.4-.4-.92-.59-1.43-.59-.52 0-1.04.2-1.43.59L10.3 9.45l-7.72 7.72c-.78.78-.78 2.05 0 2.83L4 21.41c.39.39.9.59 1.41.59.51 0 1.02-.2 1.41-.59l7.78-7.78 2.81-2.81c.8-.78.8-2.07 0-2.86zM5.41 20L4 18.59l7.72-7.72 1.47 1.35L5.41 20z\"/>\n",
              "  </svg>\n",
              "      </button>\n",
              "\n",
              "\n",
              "\n",
              "    <div id=\"df-07c81dfb-cf33-4107-a32f-d43859adcdb5\">\n",
              "      <button class=\"colab-df-quickchart\" onclick=\"quickchart('df-07c81dfb-cf33-4107-a32f-d43859adcdb5')\"\n",
              "              title=\"Suggest charts.\"\n",
              "              style=\"display:none;\">\n",
              "\n",
              "<svg xmlns=\"http://www.w3.org/2000/svg\" height=\"24px\"viewBox=\"0 0 24 24\"\n",
              "     width=\"24px\">\n",
              "    <g>\n",
              "        <path d=\"M19 3H5c-1.1 0-2 .9-2 2v14c0 1.1.9 2 2 2h14c1.1 0 2-.9 2-2V5c0-1.1-.9-2-2-2zM9 17H7v-7h2v7zm4 0h-2V7h2v10zm4 0h-2v-4h2v4z\"/>\n",
              "    </g>\n",
              "</svg>\n",
              "      </button>\n",
              "    </div>\n",
              "\n",
              "<style>\n",
              "  .colab-df-quickchart {\n",
              "    background-color: #E8F0FE;\n",
              "    border: none;\n",
              "    border-radius: 50%;\n",
              "    cursor: pointer;\n",
              "    display: none;\n",
              "    fill: #1967D2;\n",
              "    height: 32px;\n",
              "    padding: 0 0 0 0;\n",
              "    width: 32px;\n",
              "  }\n",
              "\n",
              "  .colab-df-quickchart:hover {\n",
              "    background-color: #E2EBFA;\n",
              "    box-shadow: 0px 1px 2px rgba(60, 64, 67, 0.3), 0px 1px 3px 1px rgba(60, 64, 67, 0.15);\n",
              "    fill: #174EA6;\n",
              "  }\n",
              "\n",
              "  [theme=dark] .colab-df-quickchart {\n",
              "    background-color: #3B4455;\n",
              "    fill: #D2E3FC;\n",
              "  }\n",
              "\n",
              "  [theme=dark] .colab-df-quickchart:hover {\n",
              "    background-color: #434B5C;\n",
              "    box-shadow: 0px 1px 3px 1px rgba(0, 0, 0, 0.15);\n",
              "    filter: drop-shadow(0px 1px 2px rgba(0, 0, 0, 0.3));\n",
              "    fill: #FFFFFF;\n",
              "  }\n",
              "</style>\n",
              "\n",
              "    <script>\n",
              "      async function quickchart(key) {\n",
              "        const containerElement = document.querySelector('#' + key);\n",
              "        const charts = await google.colab.kernel.invokeFunction(\n",
              "            'suggestCharts', [key], {});\n",
              "      }\n",
              "    </script>\n",
              "\n",
              "      <script>\n",
              "\n",
              "function displayQuickchartButton(domScope) {\n",
              "  let quickchartButtonEl =\n",
              "    domScope.querySelector('#df-07c81dfb-cf33-4107-a32f-d43859adcdb5 button.colab-df-quickchart');\n",
              "  quickchartButtonEl.style.display =\n",
              "    google.colab.kernel.accessAllowed ? 'block' : 'none';\n",
              "}\n",
              "\n",
              "        displayQuickchartButton(document);\n",
              "      </script>\n",
              "      <style>\n",
              "    .colab-df-container {\n",
              "      display:flex;\n",
              "      flex-wrap:wrap;\n",
              "      gap: 12px;\n",
              "    }\n",
              "\n",
              "    .colab-df-convert {\n",
              "      background-color: #E8F0FE;\n",
              "      border: none;\n",
              "      border-radius: 50%;\n",
              "      cursor: pointer;\n",
              "      display: none;\n",
              "      fill: #1967D2;\n",
              "      height: 32px;\n",
              "      padding: 0 0 0 0;\n",
              "      width: 32px;\n",
              "    }\n",
              "\n",
              "    .colab-df-convert:hover {\n",
              "      background-color: #E2EBFA;\n",
              "      box-shadow: 0px 1px 2px rgba(60, 64, 67, 0.3), 0px 1px 3px 1px rgba(60, 64, 67, 0.15);\n",
              "      fill: #174EA6;\n",
              "    }\n",
              "\n",
              "    [theme=dark] .colab-df-convert {\n",
              "      background-color: #3B4455;\n",
              "      fill: #D2E3FC;\n",
              "    }\n",
              "\n",
              "    [theme=dark] .colab-df-convert:hover {\n",
              "      background-color: #434B5C;\n",
              "      box-shadow: 0px 1px 3px 1px rgba(0, 0, 0, 0.15);\n",
              "      filter: drop-shadow(0px 1px 2px rgba(0, 0, 0, 0.3));\n",
              "      fill: #FFFFFF;\n",
              "    }\n",
              "  </style>\n",
              "\n",
              "      <script>\n",
              "        const buttonEl =\n",
              "          document.querySelector('#df-59a7f23c-2d50-4b6a-94e6-d93604788732 button.colab-df-convert');\n",
              "        buttonEl.style.display =\n",
              "          google.colab.kernel.accessAllowed ? 'block' : 'none';\n",
              "\n",
              "        async function convertToInteractive(key) {\n",
              "          const element = document.querySelector('#df-59a7f23c-2d50-4b6a-94e6-d93604788732');\n",
              "          const dataTable =\n",
              "            await google.colab.kernel.invokeFunction('convertToInteractive',\n",
              "                                                     [key], {});\n",
              "          if (!dataTable) return;\n",
              "\n",
              "          const docLinkHtml = 'Like what you see? Visit the ' +\n",
              "            '<a target=\"_blank\" href=https://colab.research.google.com/notebooks/data_table.ipynb>data table notebook</a>'\n",
              "            + ' to learn more about interactive tables.';\n",
              "          element.innerHTML = '';\n",
              "          dataTable['output_type'] = 'display_data';\n",
              "          await google.colab.output.renderOutput(dataTable, element);\n",
              "          const docLink = document.createElement('div');\n",
              "          docLink.innerHTML = docLinkHtml;\n",
              "          element.appendChild(docLink);\n",
              "        }\n",
              "      </script>\n",
              "    </div>\n",
              "  </div>\n"
            ]
          },
          "metadata": {},
          "execution_count": 20
        }
      ],
      "source": [
        "# The most highly correlated values\n",
        "corr_values.sort_values('correlation', ascending=False).query('abs_correlation>0.5')\n",
        "### END SOLUTION"
      ]
    },
    {
      "cell_type": "markdown",
      "metadata": {
        "id": "YTa1-GqD2C1y"
      },
      "source": [
        "###Test-Train Split\n",
        "\n",
        "\n",
        "*   using Scikit-learn's **StratifiedShuffleSplit** to maintain the same ratio of predictor classes.\n",
        "\n",
        "\n",
        "\n"
      ]
    },
    {
      "cell_type": "code",
      "execution_count": null,
      "metadata": {
        "id": "iRZeho9_2CE8"
      },
      "outputs": [],
      "source": [
        "### BEGIN SOLUTION\n",
        "from sklearn.model_selection import StratifiedShuffleSplit\n",
        "\n",
        "# Get the split indexes\n",
        "strat_shuf_split = StratifiedShuffleSplit(n_splits=2,\n",
        "                                          test_size=0.3,\n",
        "                                          random_state=42)\n",
        "y_col = \"Class\"\n",
        "\n",
        "X = data.drop(y_col, axis=1)\n",
        "y = data[y_col]\n",
        "# train_idx, test_idx = next(test_train_split.split(data[feature_cols], data.Amount))"
      ]
    },
    {
      "cell_type": "code",
      "execution_count": null,
      "metadata": {
        "colab": {
          "base_uri": "https://localhost:8080/"
        },
        "id": "4hn6jzVO-Hmd",
        "outputId": "a8b47b5c-dea9-4738-a1c6-29c747db1a34"
      },
      "outputs": [
        {
          "output_type": "execute_result",
          "data": {
            "text/plain": [
              "4"
            ]
          },
          "metadata": {},
          "execution_count": 12
        }
      ],
      "source": [
        "from sklearn import preprocessing\n",
        "X = preprocessing.StandardScaler().fit(X).transform(X)\n",
        "# use StratifiedShuffleSplit()\n",
        "sss = StratifiedShuffleSplit(n_splits=4, test_size=0.5,\n",
        "                             random_state=0)\n",
        "sss.get_n_splits(X, y)"
      ]
    },
    {
      "cell_type": "code",
      "execution_count": null,
      "metadata": {
        "colab": {
          "base_uri": "https://localhost:8080/"
        },
        "id": "rzz7-RGP-821",
        "outputId": "c9857829-cb29-4759-a48a-eff75c9053c6"
      },
      "outputs": [
        {
          "output_type": "stream",
          "name": "stdout",
          "text": [
            "[]\n"
          ]
        }
      ],
      "source": [
        "scores = []\n",
        "\n",
        "# # using regression to get predicted data\n",
        "# rf = RandomForestClassifier(n_estimators=40, max_depth=7)\n",
        "# for train_index, test_index in sss.split(X, y):\n",
        "#     X_train, X_test = X[train_index], X[test_index]\n",
        "#     y_train, y_test = y[train_index], y[test_index]\n",
        "#     rf.fit(X_train, y_train)\n",
        "#     pred = rf.predict(X_test)\n",
        "#     scores.append(accuracy_score(y_test, pred))\n",
        "\n",
        "# get accuracy of each prediction\n",
        "print(scores)"
      ]
    },
    {
      "cell_type": "markdown",
      "metadata": {
        "id": "ZosGMBzP6VVF"
      },
      "source": [
        "###Logiistic Regression"
      ]
    },
    {
      "cell_type": "code",
      "execution_count": null,
      "metadata": {
        "id": "98c1UEv66X_X"
      },
      "outputs": [],
      "source": [
        "### BEGIN SOLUTION\n",
        "from sklearn.linear_model import LogisticRegression\n",
        "\n",
        "# Standard logistic regression\n",
        "lr = LogisticRegression(solver='liblinear').fit(X_train, y_train)"
      ]
    },
    {
      "cell_type": "code",
      "execution_count": null,
      "metadata": {
        "id": "AJNKOXVVAr8m"
      },
      "outputs": [],
      "source": [
        "from sklearn.linear_model import LogisticRegressionCV\n",
        "\n",
        "# L1 regularized logistic regression\n",
        "lr_l1 = LogisticRegressionCV(Cs=10, cv=4, penalty='l1', solver='liblinear').fit(X_train, y_train)"
      ]
    },
    {
      "cell_type": "code",
      "execution_count": null,
      "metadata": {
        "id": "zTjSRGelA6EZ"
      },
      "outputs": [],
      "source": [
        "# L2 regularized logistic regression\n",
        "lr_l2 = LogisticRegressionCV(Cs=10, cv=4, penalty='l2', solver='liblinear').fit(X_train, y_train)\n",
        "### END SOLUTION"
      ]
    },
    {
      "cell_type": "code",
      "execution_count": null,
      "metadata": {
        "colab": {
          "base_uri": "https://localhost:8080/",
          "height": 206
        },
        "id": "wYX4YEdkBc-0",
        "outputId": "c86ea7d0-46ce-48eb-ec75-091408821fbb"
      },
      "outputs": [
        {
          "output_type": "execute_result",
          "data": {
            "text/plain": [
              "   lr  l1  l2\n",
              "0   0   0   0\n",
              "1   0   0   0\n",
              "2   0   0   0\n",
              "3   0   0   0\n",
              "4   0   0   0"
            ],
            "text/html": [
              "\n",
              "\n",
              "  <div id=\"df-cacab1db-49cc-403d-a4b3-8f8d2f4def89\">\n",
              "    <div class=\"colab-df-container\">\n",
              "      <div>\n",
              "<style scoped>\n",
              "    .dataframe tbody tr th:only-of-type {\n",
              "        vertical-align: middle;\n",
              "    }\n",
              "\n",
              "    .dataframe tbody tr th {\n",
              "        vertical-align: top;\n",
              "    }\n",
              "\n",
              "    .dataframe thead th {\n",
              "        text-align: right;\n",
              "    }\n",
              "</style>\n",
              "<table border=\"1\" class=\"dataframe\">\n",
              "  <thead>\n",
              "    <tr style=\"text-align: right;\">\n",
              "      <th></th>\n",
              "      <th>lr</th>\n",
              "      <th>l1</th>\n",
              "      <th>l2</th>\n",
              "    </tr>\n",
              "  </thead>\n",
              "  <tbody>\n",
              "    <tr>\n",
              "      <th>0</th>\n",
              "      <td>0</td>\n",
              "      <td>0</td>\n",
              "      <td>0</td>\n",
              "    </tr>\n",
              "    <tr>\n",
              "      <th>1</th>\n",
              "      <td>0</td>\n",
              "      <td>0</td>\n",
              "      <td>0</td>\n",
              "    </tr>\n",
              "    <tr>\n",
              "      <th>2</th>\n",
              "      <td>0</td>\n",
              "      <td>0</td>\n",
              "      <td>0</td>\n",
              "    </tr>\n",
              "    <tr>\n",
              "      <th>3</th>\n",
              "      <td>0</td>\n",
              "      <td>0</td>\n",
              "      <td>0</td>\n",
              "    </tr>\n",
              "    <tr>\n",
              "      <th>4</th>\n",
              "      <td>0</td>\n",
              "      <td>0</td>\n",
              "      <td>0</td>\n",
              "    </tr>\n",
              "  </tbody>\n",
              "</table>\n",
              "</div>\n",
              "      <button class=\"colab-df-convert\" onclick=\"convertToInteractive('df-cacab1db-49cc-403d-a4b3-8f8d2f4def89')\"\n",
              "              title=\"Convert this dataframe to an interactive table.\"\n",
              "              style=\"display:none;\">\n",
              "\n",
              "  <svg xmlns=\"http://www.w3.org/2000/svg\" height=\"24px\"viewBox=\"0 0 24 24\"\n",
              "       width=\"24px\">\n",
              "    <path d=\"M0 0h24v24H0V0z\" fill=\"none\"/>\n",
              "    <path d=\"M18.56 5.44l.94 2.06.94-2.06 2.06-.94-2.06-.94-.94-2.06-.94 2.06-2.06.94zm-11 1L8.5 8.5l.94-2.06 2.06-.94-2.06-.94L8.5 2.5l-.94 2.06-2.06.94zm10 10l.94 2.06.94-2.06 2.06-.94-2.06-.94-.94-2.06-.94 2.06-2.06.94z\"/><path d=\"M17.41 7.96l-1.37-1.37c-.4-.4-.92-.59-1.43-.59-.52 0-1.04.2-1.43.59L10.3 9.45l-7.72 7.72c-.78.78-.78 2.05 0 2.83L4 21.41c.39.39.9.59 1.41.59.51 0 1.02-.2 1.41-.59l7.78-7.78 2.81-2.81c.8-.78.8-2.07 0-2.86zM5.41 20L4 18.59l7.72-7.72 1.47 1.35L5.41 20z\"/>\n",
              "  </svg>\n",
              "      </button>\n",
              "\n",
              "\n",
              "\n",
              "    <div id=\"df-47d52a45-661f-48e0-a20b-d2eaef7d7637\">\n",
              "      <button class=\"colab-df-quickchart\" onclick=\"quickchart('df-47d52a45-661f-48e0-a20b-d2eaef7d7637')\"\n",
              "              title=\"Suggest charts.\"\n",
              "              style=\"display:none;\">\n",
              "\n",
              "<svg xmlns=\"http://www.w3.org/2000/svg\" height=\"24px\"viewBox=\"0 0 24 24\"\n",
              "     width=\"24px\">\n",
              "    <g>\n",
              "        <path d=\"M19 3H5c-1.1 0-2 .9-2 2v14c0 1.1.9 2 2 2h14c1.1 0 2-.9 2-2V5c0-1.1-.9-2-2-2zM9 17H7v-7h2v7zm4 0h-2V7h2v10zm4 0h-2v-4h2v4z\"/>\n",
              "    </g>\n",
              "</svg>\n",
              "      </button>\n",
              "    </div>\n",
              "\n",
              "<style>\n",
              "  .colab-df-quickchart {\n",
              "    background-color: #E8F0FE;\n",
              "    border: none;\n",
              "    border-radius: 50%;\n",
              "    cursor: pointer;\n",
              "    display: none;\n",
              "    fill: #1967D2;\n",
              "    height: 32px;\n",
              "    padding: 0 0 0 0;\n",
              "    width: 32px;\n",
              "  }\n",
              "\n",
              "  .colab-df-quickchart:hover {\n",
              "    background-color: #E2EBFA;\n",
              "    box-shadow: 0px 1px 2px rgba(60, 64, 67, 0.3), 0px 1px 3px 1px rgba(60, 64, 67, 0.15);\n",
              "    fill: #174EA6;\n",
              "  }\n",
              "\n",
              "  [theme=dark] .colab-df-quickchart {\n",
              "    background-color: #3B4455;\n",
              "    fill: #D2E3FC;\n",
              "  }\n",
              "\n",
              "  [theme=dark] .colab-df-quickchart:hover {\n",
              "    background-color: #434B5C;\n",
              "    box-shadow: 0px 1px 3px 1px rgba(0, 0, 0, 0.15);\n",
              "    filter: drop-shadow(0px 1px 2px rgba(0, 0, 0, 0.3));\n",
              "    fill: #FFFFFF;\n",
              "  }\n",
              "</style>\n",
              "\n",
              "    <script>\n",
              "      async function quickchart(key) {\n",
              "        const containerElement = document.querySelector('#' + key);\n",
              "        const charts = await google.colab.kernel.invokeFunction(\n",
              "            'suggestCharts', [key], {});\n",
              "      }\n",
              "    </script>\n",
              "\n",
              "      <script>\n",
              "\n",
              "function displayQuickchartButton(domScope) {\n",
              "  let quickchartButtonEl =\n",
              "    domScope.querySelector('#df-47d52a45-661f-48e0-a20b-d2eaef7d7637 button.colab-df-quickchart');\n",
              "  quickchartButtonEl.style.display =\n",
              "    google.colab.kernel.accessAllowed ? 'block' : 'none';\n",
              "}\n",
              "\n",
              "        displayQuickchartButton(document);\n",
              "      </script>\n",
              "      <style>\n",
              "    .colab-df-container {\n",
              "      display:flex;\n",
              "      flex-wrap:wrap;\n",
              "      gap: 12px;\n",
              "    }\n",
              "\n",
              "    .colab-df-convert {\n",
              "      background-color: #E8F0FE;\n",
              "      border: none;\n",
              "      border-radius: 50%;\n",
              "      cursor: pointer;\n",
              "      display: none;\n",
              "      fill: #1967D2;\n",
              "      height: 32px;\n",
              "      padding: 0 0 0 0;\n",
              "      width: 32px;\n",
              "    }\n",
              "\n",
              "    .colab-df-convert:hover {\n",
              "      background-color: #E2EBFA;\n",
              "      box-shadow: 0px 1px 2px rgba(60, 64, 67, 0.3), 0px 1px 3px 1px rgba(60, 64, 67, 0.15);\n",
              "      fill: #174EA6;\n",
              "    }\n",
              "\n",
              "    [theme=dark] .colab-df-convert {\n",
              "      background-color: #3B4455;\n",
              "      fill: #D2E3FC;\n",
              "    }\n",
              "\n",
              "    [theme=dark] .colab-df-convert:hover {\n",
              "      background-color: #434B5C;\n",
              "      box-shadow: 0px 1px 3px 1px rgba(0, 0, 0, 0.15);\n",
              "      filter: drop-shadow(0px 1px 2px rgba(0, 0, 0, 0.3));\n",
              "      fill: #FFFFFF;\n",
              "    }\n",
              "  </style>\n",
              "\n",
              "      <script>\n",
              "        const buttonEl =\n",
              "          document.querySelector('#df-cacab1db-49cc-403d-a4b3-8f8d2f4def89 button.colab-df-convert');\n",
              "        buttonEl.style.display =\n",
              "          google.colab.kernel.accessAllowed ? 'block' : 'none';\n",
              "\n",
              "        async function convertToInteractive(key) {\n",
              "          const element = document.querySelector('#df-cacab1db-49cc-403d-a4b3-8f8d2f4def89');\n",
              "          const dataTable =\n",
              "            await google.colab.kernel.invokeFunction('convertToInteractive',\n",
              "                                                     [key], {});\n",
              "          if (!dataTable) return;\n",
              "\n",
              "          const docLinkHtml = 'Like what you see? Visit the ' +\n",
              "            '<a target=\"_blank\" href=https://colab.research.google.com/notebooks/data_table.ipynb>data table notebook</a>'\n",
              "            + ' to learn more about interactive tables.';\n",
              "          element.innerHTML = '';\n",
              "          dataTable['output_type'] = 'display_data';\n",
              "          await google.colab.output.renderOutput(dataTable, element);\n",
              "          const docLink = document.createElement('div');\n",
              "          docLink.innerHTML = docLinkHtml;\n",
              "          element.appendChild(docLink);\n",
              "        }\n",
              "      </script>\n",
              "    </div>\n",
              "  </div>\n"
            ]
          },
          "metadata": {},
          "execution_count": 19
        }
      ],
      "source": [
        "### BEGIN SOLUTION\n",
        "# Predict the class and the probability for each\n",
        "y_pred = list()\n",
        "y_prob = list()\n",
        "\n",
        "coeff_labels = ['lr', 'l1', 'l2']\n",
        "coeff_models = [lr, lr_l1, lr_l2]\n",
        "\n",
        "for lab,mod in zip(coeff_labels, coeff_models):\n",
        "    y_pred.append(pd.Series(mod.predict(X_test), name=lab))\n",
        "    y_prob.append(pd.Series(mod.predict_proba(X_test).max(axis=1), name=lab))\n",
        "\n",
        "y_pred = pd.concat(y_pred, axis=1)\n",
        "y_prob = pd.concat(y_prob, axis=1)\n",
        "\n",
        "y_pred.head()"
      ]
    },
    {
      "cell_type": "code",
      "execution_count": null,
      "metadata": {
        "colab": {
          "base_uri": "https://localhost:8080/",
          "height": 206
        },
        "id": "W1Dy0RK-BiZk",
        "outputId": "28ae093b-d908-47f9-ede8-92494d0c0c23"
      },
      "outputs": [
        {
          "output_type": "execute_result",
          "data": {
            "text/plain": [
              "         lr        l1        l2\n",
              "0  0.999852  0.999889  0.999766\n",
              "1  0.999677  0.999699  0.999580\n",
              "2  0.999892  0.999892  0.999833\n",
              "3  0.999512  0.999579  0.999420\n",
              "4  0.999989  0.999991  0.999971"
            ],
            "text/html": [
              "\n",
              "\n",
              "  <div id=\"df-cebe27f7-423f-422c-bedc-d55e0dc5e489\">\n",
              "    <div class=\"colab-df-container\">\n",
              "      <div>\n",
              "<style scoped>\n",
              "    .dataframe tbody tr th:only-of-type {\n",
              "        vertical-align: middle;\n",
              "    }\n",
              "\n",
              "    .dataframe tbody tr th {\n",
              "        vertical-align: top;\n",
              "    }\n",
              "\n",
              "    .dataframe thead th {\n",
              "        text-align: right;\n",
              "    }\n",
              "</style>\n",
              "<table border=\"1\" class=\"dataframe\">\n",
              "  <thead>\n",
              "    <tr style=\"text-align: right;\">\n",
              "      <th></th>\n",
              "      <th>lr</th>\n",
              "      <th>l1</th>\n",
              "      <th>l2</th>\n",
              "    </tr>\n",
              "  </thead>\n",
              "  <tbody>\n",
              "    <tr>\n",
              "      <th>0</th>\n",
              "      <td>0.999852</td>\n",
              "      <td>0.999889</td>\n",
              "      <td>0.999766</td>\n",
              "    </tr>\n",
              "    <tr>\n",
              "      <th>1</th>\n",
              "      <td>0.999677</td>\n",
              "      <td>0.999699</td>\n",
              "      <td>0.999580</td>\n",
              "    </tr>\n",
              "    <tr>\n",
              "      <th>2</th>\n",
              "      <td>0.999892</td>\n",
              "      <td>0.999892</td>\n",
              "      <td>0.999833</td>\n",
              "    </tr>\n",
              "    <tr>\n",
              "      <th>3</th>\n",
              "      <td>0.999512</td>\n",
              "      <td>0.999579</td>\n",
              "      <td>0.999420</td>\n",
              "    </tr>\n",
              "    <tr>\n",
              "      <th>4</th>\n",
              "      <td>0.999989</td>\n",
              "      <td>0.999991</td>\n",
              "      <td>0.999971</td>\n",
              "    </tr>\n",
              "  </tbody>\n",
              "</table>\n",
              "</div>\n",
              "      <button class=\"colab-df-convert\" onclick=\"convertToInteractive('df-cebe27f7-423f-422c-bedc-d55e0dc5e489')\"\n",
              "              title=\"Convert this dataframe to an interactive table.\"\n",
              "              style=\"display:none;\">\n",
              "\n",
              "  <svg xmlns=\"http://www.w3.org/2000/svg\" height=\"24px\"viewBox=\"0 0 24 24\"\n",
              "       width=\"24px\">\n",
              "    <path d=\"M0 0h24v24H0V0z\" fill=\"none\"/>\n",
              "    <path d=\"M18.56 5.44l.94 2.06.94-2.06 2.06-.94-2.06-.94-.94-2.06-.94 2.06-2.06.94zm-11 1L8.5 8.5l.94-2.06 2.06-.94-2.06-.94L8.5 2.5l-.94 2.06-2.06.94zm10 10l.94 2.06.94-2.06 2.06-.94-2.06-.94-.94-2.06-.94 2.06-2.06.94z\"/><path d=\"M17.41 7.96l-1.37-1.37c-.4-.4-.92-.59-1.43-.59-.52 0-1.04.2-1.43.59L10.3 9.45l-7.72 7.72c-.78.78-.78 2.05 0 2.83L4 21.41c.39.39.9.59 1.41.59.51 0 1.02-.2 1.41-.59l7.78-7.78 2.81-2.81c.8-.78.8-2.07 0-2.86zM5.41 20L4 18.59l7.72-7.72 1.47 1.35L5.41 20z\"/>\n",
              "  </svg>\n",
              "      </button>\n",
              "\n",
              "\n",
              "\n",
              "    <div id=\"df-e047b0a6-e28c-4e38-b21b-04eccdcdc291\">\n",
              "      <button class=\"colab-df-quickchart\" onclick=\"quickchart('df-e047b0a6-e28c-4e38-b21b-04eccdcdc291')\"\n",
              "              title=\"Suggest charts.\"\n",
              "              style=\"display:none;\">\n",
              "\n",
              "<svg xmlns=\"http://www.w3.org/2000/svg\" height=\"24px\"viewBox=\"0 0 24 24\"\n",
              "     width=\"24px\">\n",
              "    <g>\n",
              "        <path d=\"M19 3H5c-1.1 0-2 .9-2 2v14c0 1.1.9 2 2 2h14c1.1 0 2-.9 2-2V5c0-1.1-.9-2-2-2zM9 17H7v-7h2v7zm4 0h-2V7h2v10zm4 0h-2v-4h2v4z\"/>\n",
              "    </g>\n",
              "</svg>\n",
              "      </button>\n",
              "    </div>\n",
              "\n",
              "<style>\n",
              "  .colab-df-quickchart {\n",
              "    background-color: #E8F0FE;\n",
              "    border: none;\n",
              "    border-radius: 50%;\n",
              "    cursor: pointer;\n",
              "    display: none;\n",
              "    fill: #1967D2;\n",
              "    height: 32px;\n",
              "    padding: 0 0 0 0;\n",
              "    width: 32px;\n",
              "  }\n",
              "\n",
              "  .colab-df-quickchart:hover {\n",
              "    background-color: #E2EBFA;\n",
              "    box-shadow: 0px 1px 2px rgba(60, 64, 67, 0.3), 0px 1px 3px 1px rgba(60, 64, 67, 0.15);\n",
              "    fill: #174EA6;\n",
              "  }\n",
              "\n",
              "  [theme=dark] .colab-df-quickchart {\n",
              "    background-color: #3B4455;\n",
              "    fill: #D2E3FC;\n",
              "  }\n",
              "\n",
              "  [theme=dark] .colab-df-quickchart:hover {\n",
              "    background-color: #434B5C;\n",
              "    box-shadow: 0px 1px 3px 1px rgba(0, 0, 0, 0.15);\n",
              "    filter: drop-shadow(0px 1px 2px rgba(0, 0, 0, 0.3));\n",
              "    fill: #FFFFFF;\n",
              "  }\n",
              "</style>\n",
              "\n",
              "    <script>\n",
              "      async function quickchart(key) {\n",
              "        const containerElement = document.querySelector('#' + key);\n",
              "        const charts = await google.colab.kernel.invokeFunction(\n",
              "            'suggestCharts', [key], {});\n",
              "      }\n",
              "    </script>\n",
              "\n",
              "      <script>\n",
              "\n",
              "function displayQuickchartButton(domScope) {\n",
              "  let quickchartButtonEl =\n",
              "    domScope.querySelector('#df-e047b0a6-e28c-4e38-b21b-04eccdcdc291 button.colab-df-quickchart');\n",
              "  quickchartButtonEl.style.display =\n",
              "    google.colab.kernel.accessAllowed ? 'block' : 'none';\n",
              "}\n",
              "\n",
              "        displayQuickchartButton(document);\n",
              "      </script>\n",
              "      <style>\n",
              "    .colab-df-container {\n",
              "      display:flex;\n",
              "      flex-wrap:wrap;\n",
              "      gap: 12px;\n",
              "    }\n",
              "\n",
              "    .colab-df-convert {\n",
              "      background-color: #E8F0FE;\n",
              "      border: none;\n",
              "      border-radius: 50%;\n",
              "      cursor: pointer;\n",
              "      display: none;\n",
              "      fill: #1967D2;\n",
              "      height: 32px;\n",
              "      padding: 0 0 0 0;\n",
              "      width: 32px;\n",
              "    }\n",
              "\n",
              "    .colab-df-convert:hover {\n",
              "      background-color: #E2EBFA;\n",
              "      box-shadow: 0px 1px 2px rgba(60, 64, 67, 0.3), 0px 1px 3px 1px rgba(60, 64, 67, 0.15);\n",
              "      fill: #174EA6;\n",
              "    }\n",
              "\n",
              "    [theme=dark] .colab-df-convert {\n",
              "      background-color: #3B4455;\n",
              "      fill: #D2E3FC;\n",
              "    }\n",
              "\n",
              "    [theme=dark] .colab-df-convert:hover {\n",
              "      background-color: #434B5C;\n",
              "      box-shadow: 0px 1px 3px 1px rgba(0, 0, 0, 0.15);\n",
              "      filter: drop-shadow(0px 1px 2px rgba(0, 0, 0, 0.3));\n",
              "      fill: #FFFFFF;\n",
              "    }\n",
              "  </style>\n",
              "\n",
              "      <script>\n",
              "        const buttonEl =\n",
              "          document.querySelector('#df-cebe27f7-423f-422c-bedc-d55e0dc5e489 button.colab-df-convert');\n",
              "        buttonEl.style.display =\n",
              "          google.colab.kernel.accessAllowed ? 'block' : 'none';\n",
              "\n",
              "        async function convertToInteractive(key) {\n",
              "          const element = document.querySelector('#df-cebe27f7-423f-422c-bedc-d55e0dc5e489');\n",
              "          const dataTable =\n",
              "            await google.colab.kernel.invokeFunction('convertToInteractive',\n",
              "                                                     [key], {});\n",
              "          if (!dataTable) return;\n",
              "\n",
              "          const docLinkHtml = 'Like what you see? Visit the ' +\n",
              "            '<a target=\"_blank\" href=https://colab.research.google.com/notebooks/data_table.ipynb>data table notebook</a>'\n",
              "            + ' to learn more about interactive tables.';\n",
              "          element.innerHTML = '';\n",
              "          dataTable['output_type'] = 'display_data';\n",
              "          await google.colab.output.renderOutput(dataTable, element);\n",
              "          const docLink = document.createElement('div');\n",
              "          docLink.innerHTML = docLinkHtml;\n",
              "          element.appendChild(docLink);\n",
              "        }\n",
              "      </script>\n",
              "    </div>\n",
              "  </div>\n"
            ]
          },
          "metadata": {},
          "execution_count": 20
        }
      ],
      "source": [
        "y_prob.head()"
      ]
    },
    {
      "cell_type": "markdown",
      "metadata": {
        "id": "8mcblIDxBkcy"
      },
      "source": [
        "Calculate error metrics"
      ]
    },
    {
      "cell_type": "code",
      "execution_count": null,
      "metadata": {
        "id": "eOqcB13FBmgG"
      },
      "outputs": [],
      "source": [
        "from sklearn.metrics import precision_recall_fscore_support as score\n",
        "from sklearn.metrics import confusion_matrix, accuracy_score, roc_auc_score\n",
        "from sklearn.preprocessing import label_binarize\n",
        "\n",
        "metrics = list()\n",
        "cm = dict()\n",
        "\n",
        "for lab in coeff_labels:\n",
        "\n",
        "    # Preciision, recall, f-score from the multi-class support function\n",
        "    precision, recall, fscore, _ = score(y_test, y_pred[lab], average='weighted')\n",
        "\n",
        "    # The usual way to calculate accuracy\n",
        "    accuracy = accuracy_score(y_test, y_pred[lab])\n",
        "\n",
        "    # ROC-AUC scores can be calculated by binarizing the data\n",
        "    # auc = roc_auc_score(label_binarize(y_test, classes=[0,1,2,3,4,5]),\n",
        "    #           label_binarize(y_pred[lab], classes=[0,1,2,3,4,5]),\n",
        "    #           average='weighted')\n",
        "\n",
        "    # Last, the confusion matrix\n",
        "    cm[lab] = confusion_matrix(y_test, y_pred[lab])\n",
        "\n",
        "    metrics.append(pd.Series({'precision':precision, 'recall':recall,\n",
        "                              'fscore':fscore, 'accuracy':accuracy,\n",
        "                              },\n",
        "                             name=lab))\n",
        "\n",
        "metrics = pd.concat(metrics, axis=1)"
      ]
    },
    {
      "cell_type": "code",
      "execution_count": null,
      "metadata": {
        "colab": {
          "base_uri": "https://localhost:8080/",
          "height": 175
        },
        "id": "WM1C_SF3BrJc",
        "outputId": "64d67fc6-97fd-455e-a661-697cb64ea7bb"
      },
      "outputs": [
        {
          "output_type": "execute_result",
          "data": {
            "text/plain": [
              "                 lr        l1        l2\n",
              "precision  0.999155  0.999130  0.999138\n",
              "recall     0.999214  0.999192  0.999199\n",
              "fscore     0.999157  0.999131  0.999138\n",
              "accuracy   0.999214  0.999192  0.999199"
            ],
            "text/html": [
              "\n",
              "\n",
              "  <div id=\"df-7bb9bade-2a92-4d70-867c-a606641c8739\">\n",
              "    <div class=\"colab-df-container\">\n",
              "      <div>\n",
              "<style scoped>\n",
              "    .dataframe tbody tr th:only-of-type {\n",
              "        vertical-align: middle;\n",
              "    }\n",
              "\n",
              "    .dataframe tbody tr th {\n",
              "        vertical-align: top;\n",
              "    }\n",
              "\n",
              "    .dataframe thead th {\n",
              "        text-align: right;\n",
              "    }\n",
              "</style>\n",
              "<table border=\"1\" class=\"dataframe\">\n",
              "  <thead>\n",
              "    <tr style=\"text-align: right;\">\n",
              "      <th></th>\n",
              "      <th>lr</th>\n",
              "      <th>l1</th>\n",
              "      <th>l2</th>\n",
              "    </tr>\n",
              "  </thead>\n",
              "  <tbody>\n",
              "    <tr>\n",
              "      <th>precision</th>\n",
              "      <td>0.999155</td>\n",
              "      <td>0.999130</td>\n",
              "      <td>0.999138</td>\n",
              "    </tr>\n",
              "    <tr>\n",
              "      <th>recall</th>\n",
              "      <td>0.999214</td>\n",
              "      <td>0.999192</td>\n",
              "      <td>0.999199</td>\n",
              "    </tr>\n",
              "    <tr>\n",
              "      <th>fscore</th>\n",
              "      <td>0.999157</td>\n",
              "      <td>0.999131</td>\n",
              "      <td>0.999138</td>\n",
              "    </tr>\n",
              "    <tr>\n",
              "      <th>accuracy</th>\n",
              "      <td>0.999214</td>\n",
              "      <td>0.999192</td>\n",
              "      <td>0.999199</td>\n",
              "    </tr>\n",
              "  </tbody>\n",
              "</table>\n",
              "</div>\n",
              "      <button class=\"colab-df-convert\" onclick=\"convertToInteractive('df-7bb9bade-2a92-4d70-867c-a606641c8739')\"\n",
              "              title=\"Convert this dataframe to an interactive table.\"\n",
              "              style=\"display:none;\">\n",
              "\n",
              "  <svg xmlns=\"http://www.w3.org/2000/svg\" height=\"24px\"viewBox=\"0 0 24 24\"\n",
              "       width=\"24px\">\n",
              "    <path d=\"M0 0h24v24H0V0z\" fill=\"none\"/>\n",
              "    <path d=\"M18.56 5.44l.94 2.06.94-2.06 2.06-.94-2.06-.94-.94-2.06-.94 2.06-2.06.94zm-11 1L8.5 8.5l.94-2.06 2.06-.94-2.06-.94L8.5 2.5l-.94 2.06-2.06.94zm10 10l.94 2.06.94-2.06 2.06-.94-2.06-.94-.94-2.06-.94 2.06-2.06.94z\"/><path d=\"M17.41 7.96l-1.37-1.37c-.4-.4-.92-.59-1.43-.59-.52 0-1.04.2-1.43.59L10.3 9.45l-7.72 7.72c-.78.78-.78 2.05 0 2.83L4 21.41c.39.39.9.59 1.41.59.51 0 1.02-.2 1.41-.59l7.78-7.78 2.81-2.81c.8-.78.8-2.07 0-2.86zM5.41 20L4 18.59l7.72-7.72 1.47 1.35L5.41 20z\"/>\n",
              "  </svg>\n",
              "      </button>\n",
              "\n",
              "\n",
              "\n",
              "    <div id=\"df-451a6566-c9c5-411b-972e-0d261aa541c2\">\n",
              "      <button class=\"colab-df-quickchart\" onclick=\"quickchart('df-451a6566-c9c5-411b-972e-0d261aa541c2')\"\n",
              "              title=\"Suggest charts.\"\n",
              "              style=\"display:none;\">\n",
              "\n",
              "<svg xmlns=\"http://www.w3.org/2000/svg\" height=\"24px\"viewBox=\"0 0 24 24\"\n",
              "     width=\"24px\">\n",
              "    <g>\n",
              "        <path d=\"M19 3H5c-1.1 0-2 .9-2 2v14c0 1.1.9 2 2 2h14c1.1 0 2-.9 2-2V5c0-1.1-.9-2-2-2zM9 17H7v-7h2v7zm4 0h-2V7h2v10zm4 0h-2v-4h2v4z\"/>\n",
              "    </g>\n",
              "</svg>\n",
              "      </button>\n",
              "    </div>\n",
              "\n",
              "<style>\n",
              "  .colab-df-quickchart {\n",
              "    background-color: #E8F0FE;\n",
              "    border: none;\n",
              "    border-radius: 50%;\n",
              "    cursor: pointer;\n",
              "    display: none;\n",
              "    fill: #1967D2;\n",
              "    height: 32px;\n",
              "    padding: 0 0 0 0;\n",
              "    width: 32px;\n",
              "  }\n",
              "\n",
              "  .colab-df-quickchart:hover {\n",
              "    background-color: #E2EBFA;\n",
              "    box-shadow: 0px 1px 2px rgba(60, 64, 67, 0.3), 0px 1px 3px 1px rgba(60, 64, 67, 0.15);\n",
              "    fill: #174EA6;\n",
              "  }\n",
              "\n",
              "  [theme=dark] .colab-df-quickchart {\n",
              "    background-color: #3B4455;\n",
              "    fill: #D2E3FC;\n",
              "  }\n",
              "\n",
              "  [theme=dark] .colab-df-quickchart:hover {\n",
              "    background-color: #434B5C;\n",
              "    box-shadow: 0px 1px 3px 1px rgba(0, 0, 0, 0.15);\n",
              "    filter: drop-shadow(0px 1px 2px rgba(0, 0, 0, 0.3));\n",
              "    fill: #FFFFFF;\n",
              "  }\n",
              "</style>\n",
              "\n",
              "    <script>\n",
              "      async function quickchart(key) {\n",
              "        const containerElement = document.querySelector('#' + key);\n",
              "        const charts = await google.colab.kernel.invokeFunction(\n",
              "            'suggestCharts', [key], {});\n",
              "      }\n",
              "    </script>\n",
              "\n",
              "      <script>\n",
              "\n",
              "function displayQuickchartButton(domScope) {\n",
              "  let quickchartButtonEl =\n",
              "    domScope.querySelector('#df-451a6566-c9c5-411b-972e-0d261aa541c2 button.colab-df-quickchart');\n",
              "  quickchartButtonEl.style.display =\n",
              "    google.colab.kernel.accessAllowed ? 'block' : 'none';\n",
              "}\n",
              "\n",
              "        displayQuickchartButton(document);\n",
              "      </script>\n",
              "      <style>\n",
              "    .colab-df-container {\n",
              "      display:flex;\n",
              "      flex-wrap:wrap;\n",
              "      gap: 12px;\n",
              "    }\n",
              "\n",
              "    .colab-df-convert {\n",
              "      background-color: #E8F0FE;\n",
              "      border: none;\n",
              "      border-radius: 50%;\n",
              "      cursor: pointer;\n",
              "      display: none;\n",
              "      fill: #1967D2;\n",
              "      height: 32px;\n",
              "      padding: 0 0 0 0;\n",
              "      width: 32px;\n",
              "    }\n",
              "\n",
              "    .colab-df-convert:hover {\n",
              "      background-color: #E2EBFA;\n",
              "      box-shadow: 0px 1px 2px rgba(60, 64, 67, 0.3), 0px 1px 3px 1px rgba(60, 64, 67, 0.15);\n",
              "      fill: #174EA6;\n",
              "    }\n",
              "\n",
              "    [theme=dark] .colab-df-convert {\n",
              "      background-color: #3B4455;\n",
              "      fill: #D2E3FC;\n",
              "    }\n",
              "\n",
              "    [theme=dark] .colab-df-convert:hover {\n",
              "      background-color: #434B5C;\n",
              "      box-shadow: 0px 1px 3px 1px rgba(0, 0, 0, 0.15);\n",
              "      filter: drop-shadow(0px 1px 2px rgba(0, 0, 0, 0.3));\n",
              "      fill: #FFFFFF;\n",
              "    }\n",
              "  </style>\n",
              "\n",
              "      <script>\n",
              "        const buttonEl =\n",
              "          document.querySelector('#df-7bb9bade-2a92-4d70-867c-a606641c8739 button.colab-df-convert');\n",
              "        buttonEl.style.display =\n",
              "          google.colab.kernel.accessAllowed ? 'block' : 'none';\n",
              "\n",
              "        async function convertToInteractive(key) {\n",
              "          const element = document.querySelector('#df-7bb9bade-2a92-4d70-867c-a606641c8739');\n",
              "          const dataTable =\n",
              "            await google.colab.kernel.invokeFunction('convertToInteractive',\n",
              "                                                     [key], {});\n",
              "          if (!dataTable) return;\n",
              "\n",
              "          const docLinkHtml = 'Like what you see? Visit the ' +\n",
              "            '<a target=\"_blank\" href=https://colab.research.google.com/notebooks/data_table.ipynb>data table notebook</a>'\n",
              "            + ' to learn more about interactive tables.';\n",
              "          element.innerHTML = '';\n",
              "          dataTable['output_type'] = 'display_data';\n",
              "          await google.colab.output.renderOutput(dataTable, element);\n",
              "          const docLink = document.createElement('div');\n",
              "          docLink.innerHTML = docLinkHtml;\n",
              "          element.appendChild(docLink);\n",
              "        }\n",
              "      </script>\n",
              "    </div>\n",
              "  </div>\n"
            ]
          },
          "metadata": {},
          "execution_count": 22
        }
      ],
      "source": [
        "metrics"
      ]
    },
    {
      "cell_type": "markdown",
      "metadata": {
        "id": "aMbQNuKSEqE-"
      },
      "source": [
        "###K-Nearest Neighbours"
      ]
    },
    {
      "cell_type": "code",
      "execution_count": null,
      "metadata": {
        "id": "zyIat7sPFKtw"
      },
      "outputs": [],
      "source": [
        "from sklearn.preprocessing import LabelBinarizer, LabelEncoder, OrdinalEncoder"
      ]
    },
    {
      "cell_type": "code",
      "execution_count": null,
      "metadata": {
        "id": "lO4MBDVkFSRJ"
      },
      "outputs": [],
      "source": [
        "from sklearn.model_selection import train_test_split\n",
        "from sklearn.neighbors import KNeighborsClassifier\n",
        "from sklearn.metrics import confusion_matrix, accuracy_score, classification_report, f1_score"
      ]
    },
    {
      "cell_type": "code",
      "execution_count": null,
      "metadata": {
        "colab": {
          "base_uri": "https://localhost:8080/"
        },
        "id": "kLKNsg2fGUW1",
        "outputId": "239fbf6e-ed30-4e98-bc95-e8d6ba7ef5e9"
      },
      "outputs": [
        {
          "output_type": "stream",
          "name": "stdout",
          "text": [
            "              precision    recall  f1-score   support\n",
            "\n",
            "           0       1.00      1.00      1.00    142158\n",
            "           1       0.94      0.73      0.82       246\n",
            "\n",
            "    accuracy                           1.00    142404\n",
            "   macro avg       0.97      0.87      0.91    142404\n",
            "weighted avg       1.00      1.00      1.00    142404\n",
            "\n",
            "Accuracy score:  1.0\n",
            "F1 Score:  0.82\n"
          ]
        }
      ],
      "source": [
        "knn = KNeighborsClassifier(n_neighbors=3)\n",
        "knn = knn.fit(X_train, y_train)\n",
        "y_pred = knn.predict(X_test)\n",
        "# Preciision, recall, f-score from the multi-class support function\n",
        "print(classification_report(y_test, y_pred))\n",
        "print('Accuracy score: ', round(accuracy_score(y_test, y_pred), 2))\n",
        "print('F1 Score: ', round(f1_score(y_test, y_pred), 2))"
      ]
    },
    {
      "cell_type": "code",
      "execution_count": null,
      "metadata": {
        "colab": {
          "base_uri": "https://localhost:8080/",
          "height": 699
        },
        "id": "ubK3C4eIGgrc",
        "outputId": "f17c0731-5247-461f-ab28-c5ef254117e5"
      },
      "outputs": [
        {
          "output_type": "execute_result",
          "data": {
            "text/plain": [
              "Text(0.5, 102.72222222222219, 'Ground Truth')"
            ]
          },
          "metadata": {},
          "execution_count": 26
        },
        {
          "output_type": "display_data",
          "data": {
            "text/plain": [
              "<Figure size 1200x1200 with 2 Axes>"
            ],
            "image/png": "[encoded data removed]"
          },
          "metadata": {}
        }
      ],
      "source": [
        "# Plot confusion matrix\n",
        "sns.set_palette(sns.color_palette())\n",
        "_, ax = plt.subplots(figsize=(12,12))\n",
        "ax = sns.heatmap(confusion_matrix(y_test, y_pred), annot=True, fmt='d', annot_kws={\"size\": 40, \"weight\": \"bold\"})\n",
        "labels = ['False', 'True']\n",
        "ax.set_xticklabels(labels, fontsize=25);\n",
        "ax.set_yticklabels(labels[::-1], fontsize=25);\n",
        "ax.set_ylabel('Prediction', fontsize=30);\n",
        "ax.set_xlabel('Ground Truth', fontsize=30)"
      ]
    },
    {
      "cell_type": "code",
      "execution_count": null,
      "metadata": {
        "colab": {
          "base_uri": "https://localhost:8080/"
        },
        "id": "Y13fjO0wGsDa",
        "outputId": "feb64ac0-f024-4917-a019-3109508b4414"
      },
      "outputs": [
        {
          "output_type": "stream",
          "name": "stdout",
          "text": [
            "              precision    recall  f1-score   support\n",
            "\n",
            "           0       1.00      1.00      1.00    142158\n",
            "           1       0.94      0.72      0.81       246\n",
            "\n",
            "    accuracy                           1.00    142404\n",
            "   macro avg       0.97      0.86      0.91    142404\n",
            "weighted avg       1.00      1.00      1.00    142404\n",
            "\n",
            "Accuracy score:  1.0\n",
            "F1 Score:  0.81\n"
          ]
        }
      ],
      "source": [
        "knn = KNeighborsClassifier(n_neighbors=5, weights='distance')\n",
        "knn = knn.fit(X_train, y_train)\n",
        "y_pred = knn.predict(X_test)\n",
        "# Preciision, recall, f-score from the multi-class support function\n",
        "print(classification_report(y_test, y_pred))\n",
        "print('Accuracy score: ', round(accuracy_score(y_test, y_pred), 2))\n",
        "print('F1 Score: ', round(f1_score(y_test, y_pred), 2))"
      ]
    },
    {
      "cell_type": "code",
      "execution_count": null,
      "metadata": {
        "id": "WOykxR7KGziX"
      },
      "outputs": [],
      "source": [
        "max_k = 40\n",
        "f1_scores = list()\n",
        "error_rates = list() # 1-accuracy\n",
        "\n",
        "for k in range(1, max_k):\n",
        "\n",
        "    knn = KNeighborsClassifier(n_neighbors=k, weights='distance')\n",
        "    knn = knn.fit(X_train, y_train)\n",
        "\n",
        "    y_pred = knn.predict(X_test)\n",
        "    f1 = f1_score(y_pred, y_test)\n",
        "    f1_scores.append((k, round(f1_score(y_test, y_pred), 4)))\n",
        "    error = 1-round(accuracy_score(y_test, y_pred), 4)\n",
        "    error_rates.append((k, error))\n",
        "\n",
        "f1_results = pd.DataFrame(f1_scores, columns=['K', 'F1 Score'])\n",
        "error_results = pd.DataFrame(error_rates, columns=['K', 'Error Rate'])"
      ]
    },
    {
      "cell_type": "code",
      "execution_count": null,
      "metadata": {
        "id": "ae61J-NPG2GT"
      },
      "outputs": [],
      "source": [
        "# Plot F1 results\n",
        "sns.set_context('talk')\n",
        "sns.set_style('ticks')\n",
        "\n",
        "plt.figure(dpi=300)\n",
        "ax = f1_results.set_index('K').plot(figsize=(12, 12), linewidth=6)\n",
        "ax.set(xlabel='K', ylabel='F1 Score')\n",
        "ax.set_xticks(range(1, max_k, 2));\n",
        "plt.title('KNN F1 Score')\n",
        "plt.savefig('knn_f1.png')"
      ]
    },
    {
      "cell_type": "code",
      "execution_count": null,
      "metadata": {
        "id": "0C1m0xI_G4U8"
      },
      "outputs": [],
      "source": [
        "# Plot Accuracy (Error Rate) results\n",
        "sns.set_context('talk')\n",
        "sns.set_style('ticks')\n",
        "\n",
        "plt.figure(dpi=300)\n",
        "ax = error_results.set_index('K').plot(figsize=(12, 12), linewidth=6)\n",
        "ax.set(xlabel='K', ylabel='Error Rate')\n",
        "ax.set_xticks(range(1, max_k, 2))\n",
        "plt.title('KNN Elbow Curve')\n",
        "plt.savefig('knn_elbow.png')\n"
      ]
    },
    {
      "cell_type": "markdown",
      "metadata": {
        "id": "xf7qJIU7Hbdc"
      },
      "source": [
        "###SVM"
      ]
    },
    {
      "cell_type": "code",
      "execution_count": null,
      "metadata": {
        "id": "21sZLlxJHcpF"
      },
      "outputs": [],
      "source": [
        "from sklearn.svm import LinearSVC\n",
        "\n",
        "LSVC = LinearSVC()\n",
        "LSVC.fit(X, y)\n",
        "\n",
        "X_color = X.sample(300, random_state=45)\n",
        "y_color = y.loc[X_color.index]\n",
        "y_color = y_color.map(lambda r: 'red' if r == 1 else 'yellow')\n",
        "ax = plt.axes()\n",
        "ax.scatter(\n",
        "    X_color.iloc[:, 0], X_color.iloc[:, 1],\n",
        "    color=y_color, alpha=1)\n",
        "# -----------\n",
        "x_axis, y_axis = np.arange(0, 1.005, .005), np.arange(0, 1.005, .005)\n",
        "xx, yy = np.meshgrid(x_axis, y_axis)\n",
        "xx_ravel = xx.ravel()\n",
        "yy_ravel = yy.ravel()\n",
        "X_grid = pd.DataFrame([xx_ravel, yy_ravel]).T\n",
        "y_grid_predictions = LSVC.predict(X_grid)\n",
        "y_grid_predictions = y_grid_predictions.reshape(xx.shape)\n",
        "ax.contourf(xx, yy, y_grid_predictions, cmap=plt.cm.autumn_r, alpha=.3)\n",
        "# -----------\n",
        "ax.set(\n",
        "    xlabel=fields[0],\n",
        "    ylabel=fields[1],\n",
        "    xlim=[0, 1],\n",
        "    ylim=[0, 1],\n",
        "    title='decision boundary for LinearSVC');"
      ]
    },
    {
      "cell_type": "markdown",
      "metadata": {
        "id": "JZ7-rJHNHvhY"
      },
      "source": [
        "Gaussian kernel"
      ]
    },
    {
      "cell_type": "code",
      "execution_count": null,
      "metadata": {
        "id": "0OQ1s6plHsDu"
      },
      "outputs": [],
      "source": [
        "def plot_decision_boundary(estimator, X, y):\n",
        "    estimator.fit(X, y)\n",
        "    X_color = X.sample(300)\n",
        "    y_color = y.loc[X_color.index]\n",
        "    y_color = y_color.map(lambda r: 'red' if r == 1 else 'yellow')\n",
        "    x_axis, y_axis = np.arange(0, 1, .005), np.arange(0, 1, .005)\n",
        "    xx, yy = np.meshgrid(x_axis, y_axis)\n",
        "    xx_ravel = xx.ravel()\n",
        "    yy_ravel = yy.ravel()\n",
        "    X_grid = pd.DataFrame([xx_ravel, yy_ravel]).T\n",
        "    y_grid_predictions = estimator.predict(X_grid)\n",
        "    y_grid_predictions = y_grid_predictions.reshape(xx.shape)\n",
        "\n",
        "    fig, ax = plt.subplots(figsize=(10, 10))\n",
        "    ax.contourf(xx, yy, y_grid_predictions, cmap=plt.cm.autumn_r, alpha=.3)\n",
        "    ax.scatter(X_color.iloc[:, 0], X_color.iloc[:, 1], color=y_color, alpha=1)\n",
        "    ax.set(\n",
        "        xlabel=fields[0],\n",
        "        ylabel=fields[1],\n",
        "        title=str(estimator))"
      ]
    },
    {
      "cell_type": "code",
      "execution_count": null,
      "metadata": {
        "id": "4E2kTJdQHzm6"
      },
      "outputs": [],
      "source": [
        "from sklearn.svm import SVC\n",
        "\n",
        "gammas = [.5, 1, 2, 10]\n",
        "for gamma in gammas:\n",
        "    SVC_Gaussian = SVC(kernel='rbf', gamma=gamma)\n",
        "    plot_decision_boundary(SVC_Gaussian, X, y)"
      ]
    },
    {
      "cell_type": "code",
      "execution_count": null,
      "metadata": {
        "id": "ny2QRPlbH0TN"
      },
      "outputs": [],
      "source": [
        "Cs = [.1, 1, 10]\n",
        "for C in Cs:\n",
        "    SVC_Gaussian = SVC(kernel='rbf', gamma=2, C=C)\n",
        "    plot_decision_boundary(SVC_Gaussian, X, y)"
      ]
    },
    {
      "cell_type": "markdown",
      "metadata": {
        "id": "1dUkR15AH6sQ"
      },
      "source": [
        "Comparing Kernel Execution Times"
      ]
    },
    {
      "cell_type": "code",
      "execution_count": null,
      "metadata": {
        "id": "I_4AKQigH-9M"
      },
      "outputs": [],
      "source": [
        "from sklearn.kernel_approximation import Nystroem\n",
        "from sklearn.svm import SVC\n",
        "from sklearn.linear_model import SGDClassifier\n",
        "\n",
        "y = data.color == 'red'\n",
        "X = data[data.columns[:-1]]\n",
        "\n",
        "kwargs = {'kernel': 'rbf'}\n",
        "svc = SVC(**kwargs)\n",
        "nystroem = Nystroem(**kwargs)\n",
        "sgd = SGDClassifier()"
      ]
    },
    {
      "cell_type": "code",
      "execution_count": null,
      "metadata": {
        "id": "KMVYvb3_H_mk"
      },
      "outputs": [],
      "source": [
        "%%timeit\n",
        "svc.fit(X, y)"
      ]
    },
    {
      "cell_type": "code",
      "execution_count": null,
      "metadata": {
        "id": "3OhfOdcbIERS"
      },
      "outputs": [],
      "source": [
        "%%timeit\n",
        "X_transformed = nystroem.fit_transform(X)\n",
        "sgd.fit(X_transformed, y)"
      ]
    },
    {
      "cell_type": "code",
      "execution_count": null,
      "metadata": {
        "id": "-6WZ-Ae9IE_Y"
      },
      "outputs": [],
      "source": [
        "X2 = pd.concat([X]*5)\n",
        "y2 = pd.concat([y]*5)\n",
        "\n",
        "print(X2.shape)\n",
        "print(y2.shape)"
      ]
    },
    {
      "cell_type": "code",
      "execution_count": null,
      "metadata": {
        "id": "HXwAKTjRIHon"
      },
      "outputs": [],
      "source": [
        "%timeit svc.fit(X2, y2)"
      ]
    },
    {
      "cell_type": "code",
      "execution_count": null,
      "metadata": {
        "id": "yzUyMij4IJpQ"
      },
      "outputs": [],
      "source": [
        "%%timeit\n",
        "X2_transformed = nystroem.fit_transform(X2)\n",
        "sgd.fit(X2_transformed, y2)"
      ]
    },
    {
      "cell_type": "code",
      "execution_count": null,
      "metadata": {
        "id": "mj5IFt3wIcTb"
      },
      "outputs": [],
      "source": [
        "# Import required packages\n",
        "import pandas as pd\n",
        "import numpy as np\n",
        "from sklearn.svm import SVC\n",
        "from sklearn.model_selection import train_test_split\n",
        "from sklearn import metrics\n",
        "from sklearn.model_selection import GridSearchCV\n",
        "from sklearn.preprocessing import MinMaxScaler\n",
        "# Evaluation metrics related methods\n",
        "from sklearn.metrics import classification_report, accuracy_score, f1_score, confusion_matrix, precision_recall_fscore_support, precision_score, recall_score\n",
        "\n",
        "import matplotlib.pyplot as plt\n",
        "import seaborn as sns\n",
        "from imblearn.under_sampling import RandomUnderSampler\n",
        "%matplotlib inline"
      ]
    },
    {
      "cell_type": "code",
      "execution_count": null,
      "metadata": {
        "id": "K698A194Ik7I"
      },
      "outputs": [],
      "source": [
        "model = SVC()\n",
        "model.fit(X_train, y_train.values.ravel())\n",
        "preds = model.predict(X_test)"
      ]
    },
    {
      "cell_type": "code",
      "execution_count": null,
      "metadata": {
        "id": "AOR-qn2BIukY"
      },
      "outputs": [],
      "source": [
        "params_grid = {\n",
        "    'C': [1, 10, 100],\n",
        "    'kernel': ['poly', 'rbf', 'sigmoid']\n",
        "}"
      ]
    },
    {
      "cell_type": "code",
      "execution_count": null,
      "metadata": {
        "id": "sJ6ziV-FI3hR"
      },
      "outputs": [],
      "source": [
        "# Define a GridSearchCV to search the best parameters\n",
        "grid_search = GridSearchCV(estimator = model,\n",
        "                           param_grid = params_grid,\n",
        "                           scoring='f1',\n",
        "                           cv = 5, verbose = 1)\n",
        "# Search the best parameters with training data\n",
        "grid_search.fit(X_train, y_train.values.ravel())\n",
        "best_params = grid_search.best_params_"
      ]
    },
    {
      "cell_type": "code",
      "execution_count": null,
      "metadata": {
        "id": "YiYXWx2SI6kb"
      },
      "outputs": [],
      "source": [
        "best_params"
      ]
    },
    {
      "cell_type": "markdown",
      "metadata": {
        "id": "HcrM1Nh8JRaO"
      },
      "source": [
        "###Decision Tree"
      ]
    },
    {
      "cell_type": "code",
      "execution_count": null,
      "metadata": {
        "id": "qPbr8HB6ipkT"
      },
      "outputs": [],
      "source": [
        "from sklearn import tree\n",
        "from sklearn.tree import DecisionTreeClassifier\n",
        "from sklearn.model_selection import GridSearchCV\n",
        "from sklearn.model_selection import train_test_split\n",
        "from sklearn import metrics\n",
        "# Evaluation metrics related methods\n",
        "from sklearn.metrics import classification_report, accuracy_score, f1_score, confusion_matrix, precision_recall_fscore_support, precision_score, recall_score\n"
      ]
    },
    {
      "cell_type": "code",
      "execution_count": null,
      "metadata": {
        "id": "mROs5qb-gQ7Q"
      },
      "outputs": [],
      "source": [
        "from sklearn.tree import DecisionTreeClassifier\n",
        "\n",
        "dt = DecisionTreeClassifier(random_state=42)\n",
        "dt = dt.fit(X_train, y_train)"
      ]
    },
    {
      "cell_type": "code",
      "execution_count": null,
      "metadata": {
        "id": "hB_sN2oXgk7_"
      },
      "outputs": [],
      "source": [
        "dt.tree_.node_count, dt.tree_.max_depth"
      ]
    },
    {
      "cell_type": "code",
      "execution_count": null,
      "metadata": {
        "id": "0nAhhdRGhJ0D"
      },
      "outputs": [],
      "source": [
        "from sklearn.metrics import accuracy_score, precision_score, recall_score, f1_score\n",
        "\n",
        "def measure_error(y_true, y_pred, label):\n",
        "    return pd.Series({'accuracy':accuracy_score(y_true, y_pred),\n",
        "                      'precision': precision_score(y_true, y_pred),\n",
        "                      'recall': recall_score(y_true, y_pred),\n",
        "                      'f1': f1_score(y_true, y_pred)},\n",
        "                      name=label)"
      ]
    },
    {
      "cell_type": "code",
      "execution_count": null,
      "metadata": {
        "id": "H3Q-FLCaguMT"
      },
      "outputs": [],
      "source": [
        "y_train_pred = dt.predict(X_train)\n",
        "y_test_pred = dt.predict(X_test)\n",
        "\n",
        "train_test_full_error = pd.concat([measure_error(y_train, y_train_pred, 'train'),\n",
        "                              measure_error(y_test, y_test_pred, 'test')],\n",
        "                              axis=1)\n",
        "\n",
        "train_test_full_error"
      ]
    },
    {
      "cell_type": "code",
      "execution_count": null,
      "metadata": {
        "id": "wmNz703UiQfZ"
      },
      "outputs": [],
      "source": [
        "def plot_decision_tree(model, feature_names):\n",
        "    plt.subplots(figsize=(25, 20))\n",
        "    tree.plot_tree(model,\n",
        "                       feature_names=feature_names,\n",
        "                       filled=True)\n",
        "    plt.show()"
      ]
    },
    {
      "cell_type": "code",
      "execution_count": null,
      "metadata": {
        "id": "ivSovefLiUE-"
      },
      "outputs": [],
      "source": [
        "feature_names = X.columns.values\n",
        "plot_decision_tree(model, feature_names)"
      ]
    },
    {
      "cell_type": "code",
      "execution_count": null,
      "metadata": {
        "id": "vohtDrMrkdkG"
      },
      "outputs": [],
      "source": [
        "def evaluate_metrics(yt, yp):\n",
        "    results_pos = {}\n",
        "    results_pos['accuracy'] = accuracy_score(yt, yp)\n",
        "    precision, recall, f_beta, _ = precision_recall_fscore_support(yt, yp, average='binary')\n",
        "    results_pos['recall'] = recall\n",
        "    results_pos['precision'] = precision\n",
        "    results_pos['f1score'] = f_beta\n",
        "    return results_pos"
      ]
    },
    {
      "cell_type": "code",
      "execution_count": null,
      "metadata": {
        "id": "Hz9An0j_kC-e"
      },
      "outputs": [],
      "source": [
        "custom_model = DecisionTreeClassifier(criterion='entropy', max_depth=10, min_samples_leaf=3, random_state=rs)\n",
        "custom_model.fit(X_train, y_train.values.ravel())\n",
        "preds = custom_model.predict(X_test)\n",
        "evaluate_metrics(y_test, preds)\n",
        "plot_decision_tree(custom_model, feature_names)"
      ]
    },
    {
      "cell_type": "code",
      "execution_count": null,
      "metadata": {
        "id": "B4GTkSEdkLSA"
      },
      "outputs": [],
      "source": [
        "params_grid = {\n",
        "    'criterion': ['gini', 'entropy'],\n",
        "    'max_depth': [5, 10, 15, 20],\n",
        "    'min_samples_leaf': [1, 2, 5]\n",
        "}"
      ]
    },
    {
      "cell_type": "code",
      "execution_count": null,
      "metadata": {
        "id": "UwcspvV1kM4H"
      },
      "outputs": [],
      "source": [
        "model = DecisionTreeClassifier(random_state=rs)"
      ]
    },
    {
      "cell_type": "code",
      "execution_count": null,
      "metadata": {
        "id": "9lXyaOVCkP0X"
      },
      "outputs": [],
      "source": [
        "grid_search = GridSearchCV(estimator = model,\n",
        "                        param_grid = params_grid,\n",
        "                        scoring='f1',\n",
        "                        cv = 5, verbose = 1)\n",
        "grid_search.fit(X_train, y_train.values.ravel())\n",
        "best_params = grid_search.best_params_"
      ]
    },
    {
      "cell_type": "code",
      "execution_count": null,
      "metadata": {
        "id": "YtMvfcRfkQqm"
      },
      "outputs": [],
      "source": [
        "best_params"
      ]
    },
    {
      "cell_type": "code",
      "execution_count": null,
      "metadata": {
        "id": "BDALMt8vhN2u"
      },
      "outputs": [],
      "source": [
        "from sklearn.model_selection import GridSearchCV\n",
        "\n",
        "param_grid = {'max_depth':range(1, dt.tree_.max_depth+1, 2),\n",
        "              'max_features': range(1, len(dt.feature_importances_)+1)}\n",
        "\n",
        "GR = GridSearchCV(DecisionTreeClassifier(random_state=42),\n",
        "                  param_grid=param_grid,\n",
        "                  scoring='accuracy',\n",
        "                  n_jobs=-1)\n",
        "\n",
        "GR = GR.fit(X_train, y_train)"
      ]
    },
    {
      "cell_type": "code",
      "execution_count": null,
      "metadata": {
        "id": "MNXTL7YJhQeZ"
      },
      "outputs": [],
      "source": [
        "GR.best_estimator_.tree_.node_count, GR.best_estimator_.tree_.max_depth"
      ]
    },
    {
      "cell_type": "markdown",
      "metadata": {
        "id": "O1JWfN85nIcS"
      },
      "source": [
        "###Random Forest"
      ]
    },
    {
      "cell_type": "code",
      "execution_count": null,
      "metadata": {
        "id": "9E0GtO1rnTqh"
      },
      "outputs": [],
      "source": [
        "import scipy.optimize as opt\n",
        "from sklearn import preprocessing\n",
        "%matplotlib inline\n",
        "import matplotlib.pyplot as plt\n",
        "from sklearn import metrics\n",
        "from tqdm import tqdm"
      ]
    },
    {
      "cell_type": "code",
      "execution_count": null,
      "metadata": {
        "id": "9wJPdWBNnUYn"
      },
      "outputs": [],
      "source": [
        "from sklearn.ensemble import BaggingClassifier\n",
        "from sklearn.tree import DecisionTreeClassifier"
      ]
    },
    {
      "cell_type": "code",
      "execution_count": null,
      "metadata": {
        "id": "iP36ZOgVnd1z"
      },
      "outputs": [],
      "source": [
        "n_estimators=20\n",
        "Bag= BaggingClassifier(base_estimator=DecisionTreeClassifier(criterion=\"entropy\", max_depth = 4,random_state=2),n_estimators=n_estimators,random_state=0,bootstrap=True)"
      ]
    },
    {
      "cell_type": "code",
      "execution_count": null,
      "metadata": {
        "id": "wKPdSllPnwK_"
      },
      "outputs": [],
      "source": [
        "def get_accuracy(X_train, X_test, y_train, y_test, model):\n",
        "    return  {\"test Accuracy\":metrics.accuracy_score(y_test, model.predict(X_test)),\"trian Accuracy\": metrics.accuracy_score(y_train, model.predict(X_train))}"
      ]
    },
    {
      "cell_type": "code",
      "execution_count": null,
      "metadata": {
        "id": "1gsiuIcDnw0X"
      },
      "outputs": [],
      "source": [
        "\n",
        "def get_correlation(X_test, y_test,models):\n",
        "    #This function calculates the average correlation between predictors\n",
        "    n_estimators=len(models.estimators_)\n",
        "    prediction=np.zeros((y_test.shape[0],n_estimators))\n",
        "    predictions=pd.DataFrame({'estimator '+str(n+1):[] for n in range(n_estimators)})\n",
        "\n",
        "    for key,model in zip(predictions.keys(),models.estimators_):\n",
        "        predictions[key]=model.predict(X_test.to_numpy())\n",
        "\n",
        "    corr=predictions.corr()\n",
        "    print(\"Average correlation between predictors: \", corr.mean().mean()-1/n_estimators)\n",
        "    return corr"
      ]
    },
    {
      "cell_type": "code",
      "execution_count": null,
      "metadata": {
        "id": "MCShcXkFne2-"
      },
      "outputs": [],
      "source": [
        "Bag.fit(X_train,y_train)\n",
        "Bag.predict(X_test).shape\n",
        "print(get_accuracy(X_train, X_test, y_train, y_test,  Bag))\n",
        "get_correlation(X_test, y_test,Bag).style.background_gradient(cmap='coolwarm')"
      ]
    },
    {
      "cell_type": "code",
      "execution_count": null,
      "metadata": {
        "id": "xjqyHfAdn6-4"
      },
      "outputs": [],
      "source": [
        "from sklearn.ensemble import RandomForestClassifier\n",
        "n_estimators=20\n",
        "M_features=X.shape[1]\n",
        "max_features=round(np.sqrt(M_features))-1"
      ]
    },
    {
      "cell_type": "code",
      "execution_count": null,
      "metadata": {
        "id": "SNBQckCgoChf"
      },
      "outputs": [],
      "source": [
        "model = RandomForestClassifier( max_features=max_features,n_estimators=n_estimators, random_state=0)\n",
        "model.fit(X_train,y_train)\n",
        "print(get_accuracy(X_train, X_test, y_train, y_test, model))\n",
        "get_correlation(X_test, y_test,model).style.background_gradient(cmap='coolwarm')"
      ]
    },
    {
      "cell_type": "code",
      "execution_count": null,
      "metadata": {
        "id": "ADP-4xQ3oQ0g"
      },
      "outputs": [],
      "source": [
        "from sklearn.model_selection import GridSearchCV\n",
        "model = RandomForestClassifier()\n",
        "model.get_params().keys()"
      ]
    },
    {
      "cell_type": "code",
      "execution_count": null,
      "metadata": {
        "id": "-wRL7QNOoXJU"
      },
      "outputs": [],
      "source": [
        "param_grid = {'n_estimators': [2*n+1 for n in range(20)],\n",
        "             'max_depth' : [2*n+1 for n in range(10) ],\n",
        "             'max_features':[\"auto\", \"sqrt\", \"log2\"]}\n",
        "\n",
        "search = GridSearchCV(estimator=model, param_grid=param_grid,scoring='accuracy')\n",
        "search.fit(X_train, y_train)"
      ]
    },
    {
      "cell_type": "markdown",
      "source": [
        "##Bagging"
      ],
      "metadata": {
        "id": "jeGPFtoXGPi_"
      }
    },
    {
      "cell_type": "code",
      "source": [
        "target = 'Class'\n",
        "data[Class].value_counts(normalize=True)"
      ],
      "metadata": {
        "id": "5FNVh7snGieH"
      },
      "execution_count": null,
      "outputs": []
    },
    {
      "cell_type": "code",
      "source": [
        "from sklearn.model_selection import StratifiedShuffleSplit\n",
        "\n",
        "\n",
        "feature_cols = [x for x in data.columns if x != target]\n",
        "\n",
        "\n",
        "# Split the data into two parts with 1500 points in the test data\n",
        "# This creates a generator\n",
        "strat_shuff_split = StratifiedShuffleSplit(n_splits=1, test_size=1500, random_state=42)\n",
        "\n",
        "# Get the index values from the generator\n",
        "train_idx, test_idx = next(strat_shuff_split.split(data[feature_cols], data[target]))\n",
        "\n",
        "# Create the data sets\n",
        "X_train = data.loc[train_idx, feature_cols]\n",
        "y_train = data.loc[train_idx, target]\n",
        "\n",
        "X_test = data.loc[test_idx, feature_cols]\n",
        "y_test = data.loc[test_idx, target]"
      ],
      "metadata": {
        "id": "VK3QHkdmGSmM"
      },
      "execution_count": null,
      "outputs": []
    },
    {
      "cell_type": "code",
      "source": [
        "y_train.value_counts(normalize=True)\n",
        "y_test.value_counts(normalize=True)"
      ],
      "metadata": {
        "id": "hincFqpnGqP8"
      },
      "execution_count": null,
      "outputs": []
    },
    {
      "cell_type": "code",
      "source": [
        "from sklearn.ensemble import RandomForestClassifier\n",
        "\n",
        "# Initialize the random forest estimator\n",
        "# Note that the number of trees is not setup here\n",
        "RF = RandomForestClassifier(oob_score=True,\n",
        "                            random_state=42,\n",
        "                            warm_start=True,\n",
        "                            n_jobs=-1)\n",
        "\n",
        "oob_list = list()\n",
        "\n",
        "# Iterate through all of the possibilities for\n",
        "# number of trees\n",
        "for n_trees in [15, 20, 30, 40, 50, 100, 150, 200, 300, 400]:\n",
        "\n",
        "    # Use this to set the number of trees\n",
        "    RF.set_params(n_estimators=n_trees)\n",
        "\n",
        "    # Fit the model\n",
        "    RF.fit(X_train, y_train)\n",
        "\n",
        "    # Get the oob error\n",
        "    oob_error = 1 - RF.oob_score_\n",
        "\n",
        "    # Store it\n",
        "    oob_list.append(pd.Series({'n_trees': n_trees, 'oob': oob_error}))\n",
        "\n",
        "rf_oob_df = pd.concat(oob_list, axis=1).T.set_index('n_trees')\n",
        "\n",
        "rf_oob_df"
      ],
      "metadata": {
        "id": "j9ltnkrGGy3n"
      },
      "execution_count": null,
      "outputs": []
    },
    {
      "cell_type": "code",
      "source": [
        "from sklearn.ensemble import ExtraTreesClassifier\n",
        "\n",
        "# Initialize the random forest estimator\n",
        "# Note that the number of trees is not setup here\n",
        "EF = ExtraTreesClassifier(oob_score=True,\n",
        "                          random_state=42,\n",
        "                          warm_start=True,\n",
        "                          bootstrap=True,\n",
        "                          n_jobs=-1)\n",
        "\n",
        "oob_list = list()\n",
        "\n",
        "# Iterate through all of the possibilities for\n",
        "# number of trees\n",
        "for n_trees in [15, 20, 30, 40, 50, 100, 150, 200, 300, 400]:\n",
        "\n",
        "    # Use this to set the number of trees\n",
        "    EF.set_params(n_estimators=n_trees)\n",
        "    EF.fit(X_train, y_train)\n",
        "\n",
        "    # oob error\n",
        "    oob_error = 1 - EF.oob_score_\n",
        "    oob_list.append(pd.Series({'n_trees': n_trees, 'oob': oob_error}))\n",
        "\n",
        "et_oob_df = pd.concat(oob_list, axis=1).T.set_index('n_trees')\n",
        "\n",
        "et_oob_df"
      ],
      "metadata": {
        "id": "B7dBjMW_G7S3"
      },
      "execution_count": null,
      "outputs": []
    },
    {
      "cell_type": "code",
      "source": [
        "# Random forest with 100 estimators\n",
        "model = RF.set_params(n_estimators=100)\n",
        "\n",
        "y_pred = model.predict(X_test)"
      ],
      "metadata": {
        "id": "CuxDpIe0HD4X"
      },
      "execution_count": null,
      "outputs": []
    },
    {
      "cell_type": "code",
      "source": [
        "from sklearn.metrics import classification_report, accuracy_score, precision_score, recall_score\n",
        "from sklearn.metrics import f1_score, roc_auc_score\n",
        "\n",
        "cr = classification_report(y_test, y_pred)\n",
        "print(cr)\n",
        "\n",
        "score_df = pd.DataFrame({'accuracy': accuracy_score(y_test, y_pred),\n",
        "                         'precision': precision_score(y_test, y_pred),\n",
        "                         'recall': recall_score(y_test, y_pred),\n",
        "                         'f1': f1_score(y_test, y_pred),\n",
        "                         'auc': roc_auc_score(y_test, y_pred)},\n",
        "                         index=pd.Index([0]))\n",
        "\n",
        "print(score_df)"
      ],
      "metadata": {
        "id": "ILTlgePJHEwF"
      },
      "execution_count": null,
      "outputs": []
    },
    {
      "cell_type": "code",
      "source": [
        "from sklearn.metrics import roc_curve, precision_recall_curve, confusion_matrix\n",
        "\n",
        "sns.set_context('talk')\n",
        "cm = confusion_matrix(y_test, y_pred)\n",
        "_, ax = plt.subplots(figsize=(12,12))\n",
        "ax = sns.heatmap(cm, annot=True, fmt='d', annot_kws={\"size\": 40, \"weight\": \"bold\"})\n",
        "\n",
        "labels = ['False', 'True']\n",
        "ax.set_xticklabels(labels, fontsize=25);\n",
        "ax.set_yticklabels(labels[::-1], fontsize=25);\n",
        "ax.set_ylabel('Prediction', fontsize=30);\n",
        "ax.set_xlabel('Ground Truth', fontsize=30)"
      ],
      "metadata": {
        "id": "FwMNEIQ2HHZO"
      },
      "execution_count": null,
      "outputs": []
    },
    {
      "cell_type": "markdown",
      "source": [
        "###Bootstrap Sampling"
      ],
      "metadata": {
        "id": "jMb--uNjHnds"
      }
    },
    {
      "cell_type": "code",
      "source": [
        "from sklearn.utils import resample\n",
        "from sklearn.tree import DecisionTreeClassifier\n",
        "from sklearn import tree\n",
        "from sklearn.ensemble import BaggingClassifier"
      ],
      "metadata": {
        "id": "jwx_1uuUHqfC"
      },
      "execution_count": null,
      "outputs": []
    },
    {
      "cell_type": "code",
      "source": [
        "Bag = BaggingClassifier(base_estimator=DecisionTreeClassifier(criterion=\"entropy\", max_depth = 4,random_state=2),n_estimators=30,random_state=0,bootstrap=True)\n"
      ],
      "metadata": {
        "id": "6_nJsSxVH40u"
      },
      "execution_count": null,
      "outputs": []
    },
    {
      "cell_type": "code",
      "source": [
        "from sklearn.svm import SVC\n",
        "\n",
        "clf=SVC(kernel='linear',gamma='scale')\n",
        "clf.fit(X_train, y_train)\n",
        "print(get_accuracy(X_train, X_test, y_train, y_test,  clf))"
      ],
      "metadata": {
        "id": "-WsDQawgH84K"
      },
      "execution_count": null,
      "outputs": []
    },
    {
      "cell_type": "code",
      "source": [
        "Bag = BaggingClassifier(base_estimator=SVC(kernel='linear',gamma='scale'),n_estimators=10,random_state=0,bootstrap=True)\n",
        "Bag.fit(X_train,y_train)\n",
        "print(get_accuracy(X_train, X_test, y_train, y_test,  Bag))"
      ],
      "metadata": {
        "id": "Gi_L5FIvH9xG"
      },
      "execution_count": null,
      "outputs": []
    },
    {
      "cell_type": "markdown",
      "source": [
        "##Model Explainability"
      ],
      "metadata": {
        "id": "2ZG6U_OP16Sh"
      }
    },
    {
      "cell_type": "code",
      "source": [
        "import lime.lime_tabular\n",
        "from sklearn import metrics\n",
        "from sklearn.ensemble import RandomForestClassifier\n",
        "from sklearn.preprocessing import MinMaxScaler, StandardScaler\n",
        "from sklearn.model_selection import train_test_split\n",
        "from sklearn.linear_model import LogisticRegression\n",
        "from sklearn.tree import DecisionTreeClassifier, export_text, export_graphviz, plot_tree\n",
        "from sklearn.inspection import permutation_importance, plot_partial_dependence"
      ],
      "metadata": {
        "id": "f81GgvMp1_C6"
      },
      "execution_count": null,
      "outputs": []
    },
    {
      "cell_type": "code",
      "source": [
        "# Define a black-box random forest model\n",
        "black_box_model = RandomForestClassifier(random_state = 123, max_depth=25,\n",
        "                             max_features=10, n_estimators=100,\n",
        "                             bootstrap=True)\n",
        "# Train the model\n",
        "black_box_model.fit(X_train, y_train.values.ravel())"
      ],
      "metadata": {
        "id": "OX4npyMX2Sek"
      },
      "execution_count": null,
      "outputs": []
    },
    {
      "cell_type": "code",
      "source": [
        "#predicting test set\n",
        "y_blackbox = black_box_model.predict(X_test)\n",
        "metrics.roc_auc_score(y_test, y_blackbox)"
      ],
      "metadata": {
        "id": "TQcWKn-r2Uow"
      },
      "execution_count": null,
      "outputs": []
    },
    {
      "cell_type": "code",
      "source": [
        "# Use permutation_importance to calculate permutation feature importances\n",
        "feature_importances = permutation_importance(estimator=black_box_model, X = X_train, y = y_train, n_repeats=5,\n",
        "                                random_state=123, n_jobs=2)"
      ],
      "metadata": {
        "id": "W9iDO9H-2cXE"
      },
      "execution_count": null,
      "outputs": []
    },
    {
      "cell_type": "code",
      "source": [
        "def visualize_feature_importance(importance_array):\n",
        "    # Sort the array based on mean value\n",
        "    sorted_idx = importance_array.importances_mean.argsort()\n",
        "    # Visualize the feature importances using boxplot\n",
        "    fig, ax = plt.subplots()\n",
        "    fig.set_figwidth(16)\n",
        "    fig.set_figheight(10)\n",
        "    fig.tight_layout()\n",
        "    ax.boxplot(importance_array.importances[sorted_idx].T,\n",
        "               vert=False, labels=X_train.columns[sorted_idx])\n",
        "    ax.set_title(\"Permutation Importances (train set)\")\n",
        "    plt.show()"
      ],
      "metadata": {
        "id": "bflQmYbM2jY3"
      },
      "execution_count": null,
      "outputs": []
    },
    {
      "cell_type": "code",
      "source": [
        "# Important features\n",
        "important_features = ['city_development_index', 'experience']\n",
        "\"arguments: \"\n",
        "\" - estimator: the black box model\"\n",
        "\" - X is the training data X\"\n",
        "\" - features are the important features we are interested\"\n",
        "plot_partial_dependence(estimator=black_box_model,\n",
        "                        X=X_train,\n",
        "                        features=important_features,\n",
        "                        random_state=123)"
      ],
      "metadata": {
        "id": "tu9i42152t_j"
      },
      "execution_count": null,
      "outputs": []
    },
    {
      "cell_type": "code",
      "source": [
        "lm_surrogate = LogisticRegression(max_iter=1000,\n",
        "                                  random_state=123, penalty='l1', solver='liblinear')\n",
        "lm_surrogate.fit(X_test_minmax, y_blackbox)"
      ],
      "metadata": {
        "id": "hYSMOaXt2yrE"
      },
      "execution_count": null,
      "outputs": []
    },
    {
      "cell_type": "code",
      "source": [
        "y_surrogate = lm_surrogate.predict(X_test_minmax)\n",
        "metrics.accuracy_score(y_blackbox, y_surrogate)"
      ],
      "metadata": {
        "id": "rjYKjmdE25x5"
      },
      "execution_count": null,
      "outputs": []
    },
    {
      "cell_type": "code",
      "source": [
        "tree_surrogate = DecisionTreeClassifier(random_state=123,\n",
        "                                         max_depth=5,\n",
        "                                         max_features=10)"
      ],
      "metadata": {
        "id": "WJ4_vEn33HUR"
      },
      "execution_count": null,
      "outputs": []
    },
    {
      "cell_type": "code",
      "source": [
        "tree_surrogate.fit(X_test, y_blackbox)\n",
        "y_surrogate = tree_surrogate.predict(X_test)\n",
        "tree_exp = export_text(tree_surrogate, feature_names=list(X_train.columns))"
      ],
      "metadata": {
        "id": "y8UiAf6c3H0h"
      },
      "execution_count": null,
      "outputs": []
    },
    {
      "cell_type": "code",
      "source": [
        "instance_index = 19\n",
        "selected_instance = X_test.iloc[[instance_index]]\n",
        "lime_test_instance = selected_instance.values.reshape(-1)\n",
        "selected_instance"
      ],
      "metadata": {
        "id": "FmcJ-mMa3l4t"
      },
      "execution_count": null,
      "outputs": []
    },
    {
      "cell_type": "code",
      "source": [
        "exp = explainer.explain_instance(\n",
        "                                 # Instance to explain\n",
        "                                 lime_test_instance,\n",
        "                                 # The prediction from black-box model\n",
        "                                 black_box_model.predict_proba,\n",
        "                                 # Use max 10 features\n",
        "                                 num_features=10)\n",
        "exp.as_pyplot_figure();"
      ],
      "metadata": {
        "id": "92yQyWk93oSC"
      },
      "execution_count": null,
      "outputs": []
    },
    {
      "cell_type": "markdown",
      "source": [
        "##Imbalanced Data"
      ],
      "metadata": {
        "id": "FtP6oH9O4LoB"
      }
    },
    {
      "cell_type": "code",
      "source": [
        "import imblearn\n",
        "from matplotlib.pyplot import figure\n",
        "from sklearn.utils import shuffle\n",
        "from sklearn.preprocessing import OneHotEncoder, LabelEncoder\n",
        "from sklearn.impute import SimpleImputer, KNNImputer\n",
        "from sklearn.model_selection import train_test_split, learning_curve\n",
        "from sklearn.linear_model import LogisticRegression\n",
        "from sklearn.tree import DecisionTreeClassifier\n",
        "from sklearn.metrics import classification_report, accuracy_score, precision_recall_fscore_support, confusion_matrix, plot_confusion_matrix, precision_score, recall_score, roc_auc_score\n",
        "from sklearn.ensemble import RandomForestClassifier, GradientBoostingClassifier\n",
        "\n",
        "from imblearn.under_sampling import RandomUnderSampler\n",
        "from sklearn import metrics\n",
        "from sklearn.inspection import permutation_importance\n",
        "import matplotlib.pyplot as plt\n",
        "from sklearn.preprocessing import MinMaxScaler\n",
        "from sklearn.model_selection import GridSearchCV\n",
        "from collections import Counter"
      ],
      "metadata": {
        "id": "HQBck_bQ4OWV"
      },
      "execution_count": null,
      "outputs": []
    },
    {
      "cell_type": "code",
      "source": [
        "rs = 123\n",
        "# Grid search hyperparameters for a logistic regression model\n",
        "def grid_search_lr(X_train, y_train):\n",
        "    params_grid = {\n",
        "    'class_weight': [{0:0.05, 1:0.95}, {0:0.1, 1:0.9}, {0:0.2, 1:0.8}]\n",
        "    }\n",
        "    lr_model = LogisticRegression(random_state=rs, max_iter=1000)\n",
        "    grid_search = GridSearchCV(estimator = lr_model,\n",
        "                           param_grid = params_grid,\n",
        "                           scoring='f1',\n",
        "                           cv = 5, verbose = 1)\n",
        "    grid_search.fit(X_train, y_train)\n",
        "    best_params = grid_search.best_params_\n",
        "    return best_params\n",
        "\n",
        "# Grid search hyperparameters for a random forest model\n",
        "def grid_search_rf(X_train, y_train):\n",
        "    params_grid = {\n",
        "    'max_depth': [5, 10, 15, 20],\n",
        "    'n_estimators': [25, 50, 100],\n",
        "    'min_samples_split': [2, 5],\n",
        "    'class_weight': [{0:0.1, 1:0.9}, {0:0.2, 1:0.8}, {0:0.3, 1:0.7}]\n",
        "    }\n",
        "    rf_model = RandomForestClassifier(random_state=rs)\n",
        "    grid_search = GridSearchCV(estimator = rf_model,\n",
        "                           param_grid = params_grid,\n",
        "                           scoring='f1',\n",
        "                           cv = 5, verbose = 1)\n",
        "    grid_search.fit(X_train, y_train)\n",
        "    best_params = grid_search.best_params_\n",
        "    return best_params"
      ],
      "metadata": {
        "id": "S94c0RND4Pop"
      },
      "execution_count": null,
      "outputs": []
    },
    {
      "cell_type": "code",
      "source": [
        "def split_data(df):\n",
        "    X = df.loc[ : , df.columns != 'Class']\n",
        "    y = df['Class'].astype('int')\n",
        "    return train_test_split(X, y, test_size=0.2, stratify=y, random_state = rs)"
      ],
      "metadata": {
        "id": "22OKnBFT4gCG"
      },
      "execution_count": null,
      "outputs": []
    },
    {
      "cell_type": "code",
      "source": [
        "# Split the training and testing dataset\n",
        "X_train, X_test, y_train, y_test = split_data(credit_df)"
      ],
      "metadata": {
        "id": "XMDogTZs4mzZ"
      },
      "execution_count": null,
      "outputs": []
    },
    {
      "cell_type": "code",
      "source": [
        "# Build a simple logistic regression model\n",
        "model = LogisticRegression(random_state=rs,\n",
        "                              max_iter = 1000)\n",
        "\n",
        "# Train the model\n",
        "model.fit(X_train, y_train)\n",
        "preds = model.predict(X_test)"
      ],
      "metadata": {
        "id": "Jo_JJIiV4l4P"
      },
      "execution_count": null,
      "outputs": []
    },
    {
      "cell_type": "code",
      "source": [
        "# Calculate the precision, recall, f5 given the y_test and predictions\n",
        "# Note that we use beta=5 which means we think the cost of positive class is 5 times of negative class\n",
        "# You could try other beta values yourself\n",
        "accuracy = accuracy_score(y_test, preds)\n",
        "precision, recall, fbeta, support = precision_recall_fscore_support(y_test, preds, beta=5, pos_label=1, average='binary')\n",
        "auc = roc_auc_score(y_test, preds)\n",
        "print(f\"Accuracy is: {accuracy:.2f}\")\n",
        "print(f\"Precision is: {precision:.2f}\")\n",
        "print(f\"Recall is: {recall:.2f}\")\n",
        "print(f\"Fscore is: {fbeta:.2f}\")\n",
        "print(f\"AUC is: {auc:.2f}\")"
      ],
      "metadata": {
        "id": "4Pr_4G1F4vG5"
      },
      "execution_count": null,
      "outputs": []
    },
    {
      "cell_type": "code",
      "source": [
        "from imblearn.over_sampling import RandomOverSampler, SMOTE\n",
        "smote_sampler = SMOTE(random_state = rs)\n",
        "# Resample training data using SMOTE\n",
        "X_smo, y_smo = smote_sampler.fit_resample(X_train, y_train)\n",
        "# Visualize classes\n",
        "y_smo.value_counts().plot.bar(color=['green', 'red'])\n"
      ],
      "metadata": {
        "id": "Th0Ky6O74zEE"
      },
      "execution_count": null,
      "outputs": []
    },
    {
      "cell_type": "code",
      "source": [
        "# Re-train the model with resampled data\n",
        "model.fit(X_smo, y_smo)\n",
        "preds = model.predict(X_test)"
      ],
      "metadata": {
        "id": "uZrBXkE146Pa"
      },
      "execution_count": null,
      "outputs": []
    },
    {
      "cell_type": "code",
      "source": [
        "# Define a logistic regression with weight\n",
        "model = LogisticRegression(random_state=rs,\n",
        "                              max_iter = 1000,\n",
        "                              class_weight=class_weight)"
      ],
      "metadata": {
        "id": "GsawNR0549wc"
      },
      "execution_count": null,
      "outputs": []
    },
    {
      "cell_type": "code",
      "source": [
        "# Train the model\n",
        "model.fit(X_train, y_train)\n",
        "# Make predictions on the test dataset\n",
        "preds = model.predict(X_test)"
      ],
      "metadata": {
        "id": "vF3Qr54o4_pQ"
      },
      "execution_count": null,
      "outputs": []
    },
    {
      "cell_type": "code",
      "source": [
        "# Tuned random forest parameters\n",
        "best_params_no_weight = {'bootstrap': True,\n",
        "                         'class_weight': None,\n",
        "                         'max_depth': 10,\n",
        "                         'min_samples_split': 5,\n",
        "                         'n_estimators': 50}"
      ],
      "metadata": {
        "id": "KjTtFRus5emE"
      },
      "execution_count": null,
      "outputs": []
    },
    {
      "cell_type": "code",
      "source": [
        "preds, model = build_rf(X_train, y_train, X_test, best_params=best_params_no_weight)\n",
        "result = evaluate(y_test, preds, \"Original\")\n",
        "print(result)\n",
        "results.append(result)"
      ],
      "metadata": {
        "id": "OTLHv4Fp5fM8"
      },
      "execution_count": null,
      "outputs": []
    },
    {
      "cell_type": "code",
      "source": [
        "class_weight = {}\n",
        "# 0.2 to Non-churn class\n",
        "class_weight[0] = 0.2\n",
        "# 0.8 to Churn class\n",
        "class_weight[1] = 0.8"
      ],
      "metadata": {
        "id": "pV1_FKxX5g0V"
      },
      "execution_count": null,
      "outputs": []
    },
    {
      "cell_type": "code",
      "source": [
        "# Pre-tuned hyper parameters\n",
        "best_params_weight = {'bootstrap': True,\n",
        "                         'class_weight': class_weight,\n",
        "                         'max_depth': 10,\n",
        "                         'min_samples_split': 5,\n",
        "                         'n_estimators': 50}"
      ],
      "metadata": {
        "id": "iHlGfGL55pZE"
      },
      "execution_count": null,
      "outputs": []
    },
    {
      "cell_type": "code",
      "source": [
        "# class weight\n",
        "preds_cw, weight_model = build_rf(X_train, y_train, X_test, best_params=best_params_weight)"
      ],
      "metadata": {
        "id": "zHRtHW_c5qFK"
      },
      "execution_count": null,
      "outputs": []
    },
    {
      "cell_type": "code",
      "source": [
        "result = evaluate(y_test, preds_cw, \"Class Weight\")\n",
        "print(result)\n",
        "results.append(result)"
      ],
      "metadata": {
        "id": "Q8wew1Zg52so"
      },
      "execution_count": null,
      "outputs": []
    },
    {
      "cell_type": "code",
      "source": [
        "# X_smo is resampled from X_train using SMOTE\n",
        "# y_smo is resampled from y_train using SMOTE\n",
        "# X_under is resampled from X_train using Undersampling\n",
        "# y_under is resampled from y_train using Undersampling\n",
        "X_smo, y_smo, X_under, y_under = resample(X_train, y_train)"
      ],
      "metadata": {
        "id": "pcNe7rOe5444"
      },
      "execution_count": null,
      "outputs": []
    },
    {
      "cell_type": "code",
      "source": [
        "preds_smo, smo_model = build_rf(X_smo, y_smo, X_test, best_params=best_params_no_weight)\n",
        "result = evaluate(y_test, preds_smo, \"SMOTE\")\n",
        "print(result)\n",
        "results.append(result)\n",
        "\n",
        "preds_under, under_model = build_rf(X_under, y_under, X_test, best_params=best_params_no_weight)\n",
        "result = evaluate(y_test, preds_under, \"Undersampling\")\n",
        "print(result)\n",
        "results.append(result)"
      ],
      "metadata": {
        "id": "2c5aWDyO58sJ"
      },
      "execution_count": null,
      "outputs": []
    },
    {
      "cell_type": "markdown",
      "metadata": {
        "id": "aSylSxmBAqm2"
      },
      "source": [
        "## Deep Learning"
      ]
    },
    {
      "cell_type": "code",
      "execution_count": null,
      "metadata": {
        "id": "qygZ8dB1DGCl"
      },
      "outputs": [],
      "source": [
        "data_columns = data.columns\n",
        "\n",
        "predictors = data[data_columns[data_columns != 'Amount']] # all columns except Strength\n",
        "target = data['Amount'] # Strength column"
      ]
    },
    {
      "cell_type": "code",
      "execution_count": null,
      "metadata": {
        "id": "Gxn4QDQHDTra"
      },
      "outputs": [],
      "source": [
        "predictors_norm = (predictors - predictors.mean()) / predictors.std()\n",
        "predictors_norm.head()"
      ]
    },
    {
      "cell_type": "code",
      "execution_count": null,
      "metadata": {
        "id": "vjwzNFEMDY0N"
      },
      "outputs": [],
      "source": [
        "n_cols = predictors_norm.shape[1] # number of predictors"
      ]
    },
    {
      "cell_type": "markdown",
      "metadata": {
        "id": "BJtXUxu-FJ89"
      },
      "source": [
        "###Regression"
      ]
    },
    {
      "cell_type": "code",
      "execution_count": null,
      "metadata": {
        "id": "M8XJ14bvDar3"
      },
      "outputs": [],
      "source": [
        "import tensorflow as tf\n",
        "import tensorflow\n",
        "\n",
        "from tensorflow import keras\n",
        "from tensorflow.python.keras.layers import Input, Dense\n",
        "from tensorflow.python.keras.models import Sequential\n",
        "from tensorflow.python.keras.utils import to_categorical\n",
        "from tensorflow.python.keras.models import load_model"
      ]
    },
    {
      "cell_type": "code",
      "execution_count": null,
      "metadata": {
        "id": "5_Eo0cFsE0WC"
      },
      "outputs": [],
      "source": [
        "# define regression model\n",
        "def regression_model():\n",
        "    # create model\n",
        "    model = Sequential()\n",
        "    model.add(Dense(50, activation='relu', input_shape=(n_cols,)))\n",
        "    model.add(Dense(50, activation='relu'))\n",
        "    model.add(Dense(1))\n",
        "\n",
        "    # compile model\n",
        "    model.compile(optimizer='adam', loss='mean_squared_error')\n",
        "    return model"
      ]
    },
    {
      "cell_type": "code",
      "execution_count": null,
      "metadata": {
        "id": "qdbbLvOSE5Pc"
      },
      "outputs": [],
      "source": [
        "# build the model\n",
        "model = regression_model()"
      ]
    },
    {
      "cell_type": "code",
      "execution_count": null,
      "metadata": {
        "id": "ImrRg9brE-yX"
      },
      "outputs": [],
      "source": [
        "# fit the model\n",
        "model.fit(predictors_norm, target, validation_split=0.3, epochs=100, verbose=2)"
      ]
    },
    {
      "cell_type": "markdown",
      "metadata": {
        "id": "ZpcVMUCoFP4x"
      },
      "source": [
        "###Classification"
      ]
    },
    {
      "cell_type": "code",
      "execution_count": null,
      "metadata": {
        "id": "BAj5t8KhFPrY"
      },
      "outputs": [],
      "source": [
        "# import the data\n",
        "from keras.datasets import mnist\n",
        "\n",
        "# read the data\n",
        "(X_train, y_train), (X_test, y_test) = mnist.load_data()"
      ]
    },
    {
      "cell_type": "code",
      "execution_count": null,
      "metadata": {
        "id": "07qrmYtAFe6w"
      },
      "outputs": [],
      "source": [
        "# flatten images into one-dimensional vector\n",
        "\n",
        "num_pixels = X_train.shape[1] * X_train.shape[2] # find size of one-dimensional vector\n",
        "\n",
        "X_train = X_train.reshape(X_train.shape[0], num_pixels).astype('float32') # flatten training images\n",
        "X_test = X_test.reshape(X_test.shape[0], num_pixels).astype('float32') # flatten test images"
      ]
    },
    {
      "cell_type": "code",
      "execution_count": null,
      "metadata": {
        "id": "Jenx6zGHFzjJ"
      },
      "outputs": [],
      "source": [
        "# define classification model\n",
        "def classification_model():\n",
        "    # create model\n",
        "    model = Sequential()\n",
        "    model.add(Dense(num_pixels, activation='relu', input_shape=(num_pixels,)))\n",
        "    model.add(Dense(100, activation='relu'))\n",
        "    model.add(Dense(num_classes, activation='softmax'))\n",
        "\n",
        "\n",
        "    # compile model\n",
        "    model.compile(optimizer='adam', loss='categorical_crossentropy', metrics=['accuracy'])\n",
        "    return model"
      ]
    },
    {
      "cell_type": "code",
      "execution_count": null,
      "metadata": {
        "id": "2WjOHuSzFqUY"
      },
      "outputs": [],
      "source": [
        "# build the model\n",
        "model = classification_model()\n",
        "\n",
        "# fit the model\n",
        "model.fit(X_train, y_train, validation_data=(X_test, y_test), epochs=10, verbose=2)\n",
        "\n",
        "# evaluate the model\n",
        "scores = model.evaluate(X_test, y_test, verbose=0)"
      ]
    },
    {
      "cell_type": "code",
      "execution_count": null,
      "metadata": {
        "id": "z_SeBw6uFvLv"
      },
      "outputs": [],
      "source": [
        "print('Accuracy: {}% \\n Error: {}'.format(scores[1], 1 - scores[1]))"
      ]
    },
    {
      "cell_type": "code",
      "execution_count": null,
      "metadata": {
        "id": "QeunJKIJF3LN"
      },
      "outputs": [],
      "source": [
        "model.save('classification_model.h5')"
      ]
    },
    {
      "cell_type": "code",
      "execution_count": null,
      "metadata": {
        "id": "l3yOD71LGECS"
      },
      "outputs": [],
      "source": [
        "pretrained_model = load_model('classification_model.h5')"
      ]
    }
  ],
  "metadata": {
    "colab": {
      "provenance": []
    },
    "kernelspec": {
      "display_name": "Python 3",
      "name": "python3"
    },
    "language_info": {
      "name": "python"
    }
  },
  "nbformat": 4,
  "nbformat_minor": 0
}